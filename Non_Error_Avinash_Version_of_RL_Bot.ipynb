{
  "nbformat": 4,
  "nbformat_minor": 0,
  "metadata": {
    "colab": {
      "provenance": [],
      "collapsed_sections": [],
      "include_colab_link": true
    },
    "kernelspec": {
      "name": "python3",
      "display_name": "Python 3"
    },
    "language_info": {
      "name": "python"
    },
    "accelerator": "GPU"
  },
  "cells": [
    {
      "cell_type": "markdown",
      "metadata": {
        "id": "view-in-github",
        "colab_type": "text"
      },
      "source": [
        "<a href=\"https://colab.research.google.com/github/Shritej24c/Trading-Bot-RL/blob/Avinash/Non_Error_Avinash_Version_of_RL_Bot.ipynb\" target=\"_parent\"><img src=\"https://colab.research.google.com/assets/colab-badge.svg\" alt=\"Open In Colab\"/></a>"
      ]
    },
    {
      "cell_type": "code",
      "source": [
        "!nvidia-smi"
      ],
      "metadata": {
        "id": "a8XUEoXUKZBN",
        "colab": {
          "base_uri": "https://localhost:8080/"
        },
        "outputId": "3d6f53fd-4ef4-4714-d63f-78558a7edc7f"
      },
      "execution_count": 1,
      "outputs": [
        {
          "output_type": "stream",
          "name": "stdout",
          "text": [
            "Mon Oct 31 23:49:57 2022       \n",
            "+-----------------------------------------------------------------------------+\n",
            "| NVIDIA-SMI 460.32.03    Driver Version: 460.32.03    CUDA Version: 11.2     |\n",
            "|-------------------------------+----------------------+----------------------+\n",
            "| GPU  Name        Persistence-M| Bus-Id        Disp.A | Volatile Uncorr. ECC |\n",
            "| Fan  Temp  Perf  Pwr:Usage/Cap|         Memory-Usage | GPU-Util  Compute M. |\n",
            "|                               |                      |               MIG M. |\n",
            "|===============================+======================+======================|\n",
            "|   0  Tesla T4            Off  | 00000000:00:04.0 Off |                    0 |\n",
            "| N/A   66C    P8    11W /  70W |      0MiB / 15109MiB |      0%      Default |\n",
            "|                               |                      |                  N/A |\n",
            "+-------------------------------+----------------------+----------------------+\n",
            "                                                                               \n",
            "+-----------------------------------------------------------------------------+\n",
            "| Processes:                                                                  |\n",
            "|  GPU   GI   CI        PID   Type   Process name                  GPU Memory |\n",
            "|        ID   ID                                                   Usage      |\n",
            "|=============================================================================|\n",
            "|  No running processes found                                                 |\n",
            "+-----------------------------------------------------------------------------+\n"
          ]
        }
      ]
    },
    {
      "cell_type": "code",
      "execution_count": null,
      "metadata": {
        "id": "aYDpsJ9cC7r-",
        "colab": {
          "base_uri": "https://localhost:8080/"
        },
        "outputId": "2ebdc800-8c65-4fa4-e5f3-37d7dbabffb2"
      },
      "outputs": [
        {
          "output_type": "stream",
          "name": "stdout",
          "text": [
            "Looking in indexes: https://pypi.org/simple, https://us-python.pkg.dev/colab-wheels/public/simple/\n",
            "Requirement already satisfied: pip in /usr/local/lib/python3.7/dist-packages (22.3)\n",
            "\u001b[33mWARNING: Running pip as the 'root' user can result in broken permissions and conflicting behaviour with the system package manager. It is recommended to use a virtual environment instead: https://pip.pypa.io/warnings/venv\u001b[0m\u001b[33m\n",
            "\u001b[0m"
          ]
        }
      ],
      "source": [
        "!pip install --upgrade pip"
      ]
    },
    {
      "cell_type": "code",
      "source": [
        "!pip install tensorflow-gpu==1.15.0 tensorflow==1.15.0 stable-baselines==2.10.1 gym_anytrading==1.2.0 gym==0.19.0"
      ],
      "metadata": {
        "id": "maIyZIQFC-lA",
        "colab": {
          "base_uri": "https://localhost:8080/"
        },
        "outputId": "f29af807-fac0-4080-9c2a-edce31eda899"
      },
      "execution_count": null,
      "outputs": [
        {
          "output_type": "stream",
          "name": "stdout",
          "text": [
            "Looking in indexes: https://pypi.org/simple, https://us-python.pkg.dev/colab-wheels/public/simple/\n",
            "Requirement already satisfied: tensorflow-gpu==1.15.0 in /usr/local/lib/python3.7/dist-packages (1.15.0)\n",
            "Requirement already satisfied: tensorflow==1.15.0 in /usr/local/lib/python3.7/dist-packages (1.15.0)\n",
            "Requirement already satisfied: stable-baselines==2.10.1 in /usr/local/lib/python3.7/dist-packages (2.10.1)\n",
            "Requirement already satisfied: gym_anytrading==1.2.0 in /usr/local/lib/python3.7/dist-packages (1.2.0)\n",
            "Requirement already satisfied: gym==0.19.0 in /usr/local/lib/python3.7/dist-packages (0.19.0)\n",
            "Requirement already satisfied: tensorflow-estimator==1.15.1 in /usr/local/lib/python3.7/dist-packages (from tensorflow-gpu==1.15.0) (1.15.1)\n",
            "Requirement already satisfied: numpy<2.0,>=1.16.0 in /usr/local/lib/python3.7/dist-packages (from tensorflow-gpu==1.15.0) (1.21.6)\n",
            "Requirement already satisfied: six>=1.10.0 in /usr/local/lib/python3.7/dist-packages (from tensorflow-gpu==1.15.0) (1.15.0)\n",
            "Requirement already satisfied: opt-einsum>=2.3.2 in /usr/local/lib/python3.7/dist-packages (from tensorflow-gpu==1.15.0) (3.3.0)\n",
            "Requirement already satisfied: wheel>=0.26 in /usr/local/lib/python3.7/dist-packages (from tensorflow-gpu==1.15.0) (0.37.1)\n",
            "Requirement already satisfied: wrapt>=1.11.1 in /usr/local/lib/python3.7/dist-packages (from tensorflow-gpu==1.15.0) (1.14.1)\n",
            "Requirement already satisfied: astor>=0.6.0 in /usr/local/lib/python3.7/dist-packages (from tensorflow-gpu==1.15.0) (0.8.1)\n",
            "Requirement already satisfied: google-pasta>=0.1.6 in /usr/local/lib/python3.7/dist-packages (from tensorflow-gpu==1.15.0) (0.2.0)\n",
            "Requirement already satisfied: tensorboard<1.16.0,>=1.15.0 in /usr/local/lib/python3.7/dist-packages (from tensorflow-gpu==1.15.0) (1.15.0)\n",
            "Requirement already satisfied: protobuf>=3.6.1 in /usr/local/lib/python3.7/dist-packages (from tensorflow-gpu==1.15.0) (3.17.3)\n",
            "Requirement already satisfied: keras-applications>=1.0.8 in /usr/local/lib/python3.7/dist-packages (from tensorflow-gpu==1.15.0) (1.0.8)\n",
            "Requirement already satisfied: gast==0.2.2 in /usr/local/lib/python3.7/dist-packages (from tensorflow-gpu==1.15.0) (0.2.2)\n",
            "Requirement already satisfied: absl-py>=0.7.0 in /usr/local/lib/python3.7/dist-packages (from tensorflow-gpu==1.15.0) (1.3.0)\n",
            "Requirement already satisfied: grpcio>=1.8.6 in /usr/local/lib/python3.7/dist-packages (from tensorflow-gpu==1.15.0) (1.50.0)\n",
            "Requirement already satisfied: keras-preprocessing>=1.0.5 in /usr/local/lib/python3.7/dist-packages (from tensorflow-gpu==1.15.0) (1.1.2)\n",
            "Requirement already satisfied: termcolor>=1.1.0 in /usr/local/lib/python3.7/dist-packages (from tensorflow-gpu==1.15.0) (2.0.1)\n",
            "Requirement already satisfied: scipy in /usr/local/lib/python3.7/dist-packages (from stable-baselines==2.10.1) (1.7.3)\n",
            "Requirement already satisfied: joblib in /usr/local/lib/python3.7/dist-packages (from stable-baselines==2.10.1) (1.2.0)\n",
            "Requirement already satisfied: matplotlib in /usr/local/lib/python3.7/dist-packages (from stable-baselines==2.10.1) (3.2.2)\n",
            "Requirement already satisfied: opencv-python in /usr/local/lib/python3.7/dist-packages (from stable-baselines==2.10.1) (4.6.0.66)\n",
            "Requirement already satisfied: pandas in /usr/local/lib/python3.7/dist-packages (from stable-baselines==2.10.1) (1.3.5)\n",
            "Requirement already satisfied: cloudpickle>=0.5.5 in /usr/local/lib/python3.7/dist-packages (from stable-baselines==2.10.1) (1.5.0)\n",
            "Requirement already satisfied: pyglet>=1.4.0 in /usr/local/lib/python3.7/dist-packages (from gym==0.19.0) (1.5.0)\n",
            "Requirement already satisfied: atari-py==0.2.6 in /usr/local/lib/python3.7/dist-packages (from gym==0.19.0) (0.2.6)\n",
            "Requirement already satisfied: h5py in /usr/local/lib/python3.7/dist-packages (from keras-applications>=1.0.8->tensorflow-gpu==1.15.0) (3.1.0)\n",
            "Requirement already satisfied: kiwisolver>=1.0.1 in /usr/local/lib/python3.7/dist-packages (from matplotlib->stable-baselines==2.10.1) (1.4.4)\n",
            "Requirement already satisfied: python-dateutil>=2.1 in /usr/local/lib/python3.7/dist-packages (from matplotlib->stable-baselines==2.10.1) (2.8.2)\n",
            "Requirement already satisfied: cycler>=0.10 in /usr/local/lib/python3.7/dist-packages (from matplotlib->stable-baselines==2.10.1) (0.11.0)\n",
            "Requirement already satisfied: pyparsing!=2.0.4,!=2.1.2,!=2.1.6,>=2.0.1 in /usr/local/lib/python3.7/dist-packages (from matplotlib->stable-baselines==2.10.1) (3.0.9)\n",
            "Requirement already satisfied: pytz>=2017.3 in /usr/local/lib/python3.7/dist-packages (from pandas->stable-baselines==2.10.1) (2022.5)\n",
            "Requirement already satisfied: markdown>=2.6.8 in /usr/local/lib/python3.7/dist-packages (from tensorboard<1.16.0,>=1.15.0->tensorflow-gpu==1.15.0) (3.4.1)\n",
            "Requirement already satisfied: werkzeug>=0.11.15 in /usr/local/lib/python3.7/dist-packages (from tensorboard<1.16.0,>=1.15.0->tensorflow-gpu==1.15.0) (1.0.1)\n",
            "Requirement already satisfied: setuptools>=41.0.0 in /usr/local/lib/python3.7/dist-packages (from tensorboard<1.16.0,>=1.15.0->tensorflow-gpu==1.15.0) (57.4.0)\n",
            "Requirement already satisfied: typing-extensions in /usr/local/lib/python3.7/dist-packages (from kiwisolver>=1.0.1->matplotlib->stable-baselines==2.10.1) (4.1.1)\n",
            "Requirement already satisfied: importlib-metadata>=4.4 in /usr/local/lib/python3.7/dist-packages (from markdown>=2.6.8->tensorboard<1.16.0,>=1.15.0->tensorflow-gpu==1.15.0) (4.13.0)\n",
            "Requirement already satisfied: future in /usr/local/lib/python3.7/dist-packages (from pyglet>=1.4.0->gym==0.19.0) (0.16.0)\n",
            "Requirement already satisfied: cached-property in /usr/local/lib/python3.7/dist-packages (from h5py->keras-applications>=1.0.8->tensorflow-gpu==1.15.0) (1.5.2)\n",
            "Requirement already satisfied: zipp>=0.5 in /usr/local/lib/python3.7/dist-packages (from importlib-metadata>=4.4->markdown>=2.6.8->tensorboard<1.16.0,>=1.15.0->tensorflow-gpu==1.15.0) (3.10.0)\n",
            "\u001b[33mWARNING: Running pip as the 'root' user can result in broken permissions and conflicting behaviour with the system package manager. It is recommended to use a virtual environment instead: https://pip.pypa.io/warnings/venv\u001b[0m\u001b[33m\n",
            "\u001b[0m"
          ]
        }
      ]
    },
    {
      "cell_type": "code",
      "source": [
        "!pip install stable_baselines[mpi] --upgrade"
      ],
      "metadata": {
        "colab": {
          "base_uri": "https://localhost:8080/",
          "height": 834
        },
        "id": "tV75KMs2bAlI",
        "outputId": "d77a730b-a5e2-4f1f-8370-56a6400cca77"
      },
      "execution_count": null,
      "outputs": [
        {
          "output_type": "stream",
          "name": "stdout",
          "text": [
            "Looking in indexes: https://pypi.org/simple, https://us-python.pkg.dev/colab-wheels/public/simple/\n",
            "Requirement already satisfied: stable_baselines[mpi] in /usr/local/lib/python3.7/dist-packages (2.10.1)\n",
            "Collecting stable_baselines[mpi]\n",
            "  Downloading stable_baselines-2.10.2-py3-none-any.whl (240 kB)\n",
            "\u001b[2K     \u001b[90m━━━━━━━━━━━━━━━━━━━━━━━━━━━━━━━━━━━━━━\u001b[0m \u001b[32m240.9/240.9 kB\u001b[0m \u001b[31m21.0 MB/s\u001b[0m eta \u001b[36m0:00:00\u001b[0m\n",
            "\u001b[?25hRequirement already satisfied: cloudpickle>=0.5.5 in /usr/local/lib/python3.7/dist-packages (from stable_baselines[mpi]) (1.5.0)\n",
            "Requirement already satisfied: opencv-python in /usr/local/lib/python3.7/dist-packages (from stable_baselines[mpi]) (4.6.0.66)\n",
            "Requirement already satisfied: numpy in /usr/local/lib/python3.7/dist-packages (from stable_baselines[mpi]) (1.21.6)\n",
            "Requirement already satisfied: joblib in /usr/local/lib/python3.7/dist-packages (from stable_baselines[mpi]) (1.2.0)\n",
            "Requirement already satisfied: pandas in /usr/local/lib/python3.7/dist-packages (from stable_baselines[mpi]) (1.3.5)\n",
            "Requirement already satisfied: matplotlib in /usr/local/lib/python3.7/dist-packages (from stable_baselines[mpi]) (3.2.2)\n",
            "Requirement already satisfied: gym[atari,classic_control]>=0.11 in /usr/local/lib/python3.7/dist-packages (from stable_baselines[mpi]) (0.19.0)\n",
            "Requirement already satisfied: scipy in /usr/local/lib/python3.7/dist-packages (from stable_baselines[mpi]) (1.7.3)\n",
            "Collecting mpi4py\n",
            "  Downloading mpi4py-3.1.3.tar.gz (2.5 MB)\n",
            "\u001b[2K     \u001b[90m━━━━━━━━━━━━━━━━━━━━━━━━━━━━━━━━━━━━━━━━\u001b[0m \u001b[32m2.5/2.5 MB\u001b[0m \u001b[31m67.4 MB/s\u001b[0m eta \u001b[36m0:00:00\u001b[0m\n",
            "\u001b[?25h  Installing build dependencies ... \u001b[?25l\u001b[?25hdone\n",
            "  Getting requirements to build wheel ... \u001b[?25l\u001b[?25hdone\n",
            "  Preparing metadata (pyproject.toml) ... \u001b[?25l\u001b[?25hdone\n",
            "Requirement already satisfied: pyglet>=1.4.0 in /usr/local/lib/python3.7/dist-packages (from gym[atari,classic_control]>=0.11->stable_baselines[mpi]) (1.5.0)\n",
            "Requirement already satisfied: atari-py==0.2.6 in /usr/local/lib/python3.7/dist-packages (from gym[atari,classic_control]>=0.11->stable_baselines[mpi]) (0.2.6)\n",
            "Requirement already satisfied: six in /usr/local/lib/python3.7/dist-packages (from atari-py==0.2.6->gym[atari,classic_control]>=0.11->stable_baselines[mpi]) (1.15.0)\n",
            "Requirement already satisfied: python-dateutil>=2.1 in /usr/local/lib/python3.7/dist-packages (from matplotlib->stable_baselines[mpi]) (2.8.2)\n",
            "Requirement already satisfied: cycler>=0.10 in /usr/local/lib/python3.7/dist-packages (from matplotlib->stable_baselines[mpi]) (0.11.0)\n",
            "Requirement already satisfied: pyparsing!=2.0.4,!=2.1.2,!=2.1.6,>=2.0.1 in /usr/local/lib/python3.7/dist-packages (from matplotlib->stable_baselines[mpi]) (3.0.9)\n",
            "Requirement already satisfied: kiwisolver>=1.0.1 in /usr/local/lib/python3.7/dist-packages (from matplotlib->stable_baselines[mpi]) (1.4.4)\n",
            "Requirement already satisfied: pytz>=2017.3 in /usr/local/lib/python3.7/dist-packages (from pandas->stable_baselines[mpi]) (2022.5)\n",
            "Requirement already satisfied: typing-extensions in /usr/local/lib/python3.7/dist-packages (from kiwisolver>=1.0.1->matplotlib->stable_baselines[mpi]) (4.1.1)\n",
            "Requirement already satisfied: future in /usr/local/lib/python3.7/dist-packages (from pyglet>=1.4.0->gym[atari,classic_control]>=0.11->stable_baselines[mpi]) (0.16.0)\n",
            "Building wheels for collected packages: mpi4py\n",
            "  Building wheel for mpi4py (pyproject.toml) ... \u001b[?25l\u001b[?25hdone\n",
            "  Created wheel for mpi4py: filename=mpi4py-3.1.3-cp37-cp37m-linux_x86_64.whl size=2185273 sha256=14da7da959274563ae3957faf951aa44875a74f426fc9f65f1580579e66c0647\n",
            "  Stored in directory: /root/.cache/pip/wheels/5c/78/7b/ee362defd6dd48e47794585f4c9e0262cbcafeba96fbde1ee6\n",
            "Successfully built mpi4py\n",
            "Installing collected packages: mpi4py, stable_baselines\n",
            "  Attempting uninstall: stable_baselines\n",
            "    Found existing installation: stable-baselines 2.10.1\n",
            "    Uninstalling stable-baselines-2.10.1:\n",
            "      Successfully uninstalled stable-baselines-2.10.1\n",
            "Successfully installed mpi4py-3.1.3 stable_baselines-2.10.2\n",
            "\u001b[33mWARNING: Running pip as the 'root' user can result in broken permissions and conflicting behaviour with the system package manager. It is recommended to use a virtual environment instead: https://pip.pypa.io/warnings/venv\u001b[0m\u001b[33m\n",
            "\u001b[0m"
          ]
        },
        {
          "output_type": "display_data",
          "data": {
            "application/vnd.colab-display-data+json": {
              "pip_warning": {
                "packages": [
                  "stable_baselines"
                ]
              }
            }
          },
          "metadata": {}
        }
      ]
    },
    {
      "cell_type": "code",
      "source": [
        "!pip install gast==0.3.2"
      ],
      "metadata": {
        "id": "_uY372ArDCoD",
        "colab": {
          "base_uri": "https://localhost:8080/"
        },
        "outputId": "e4900592-c2d5-41ca-f399-fef58e85e0a2"
      },
      "execution_count": null,
      "outputs": [
        {
          "output_type": "stream",
          "name": "stdout",
          "text": [
            "Looking in indexes: https://pypi.org/simple, https://us-python.pkg.dev/colab-wheels/public/simple/\n",
            "Collecting gast==0.3.2\n",
            "  Using cached gast-0.3.2-py3-none-any.whl\n",
            "Installing collected packages: gast\n",
            "  Attempting uninstall: gast\n",
            "    Found existing installation: gast 0.2.2\n",
            "    Uninstalling gast-0.2.2:\n",
            "      Successfully uninstalled gast-0.2.2\n",
            "\u001b[31mERROR: pip's dependency resolver does not currently take into account all the packages that are installed. This behaviour is the source of the following dependency conflicts.\n",
            "tensorflow 1.15.0 requires gast==0.2.2, but you have gast 0.3.2 which is incompatible.\n",
            "tensorflow-gpu 1.15.0 requires gast==0.2.2, but you have gast 0.3.2 which is incompatible.\n",
            "kapre 0.3.7 requires tensorflow>=2.0.0, but you have tensorflow 1.15.0 which is incompatible.\u001b[0m\u001b[31m\n",
            "\u001b[0mSuccessfully installed gast-0.3.2\n",
            "\u001b[33mWARNING: Running pip as the 'root' user can result in broken permissions and conflicting behaviour with the system package manager. It is recommended to use a virtual environment instead: https://pip.pypa.io/warnings/venv\u001b[0m\u001b[33m\n",
            "\u001b[0m"
          ]
        }
      ]
    },
    {
      "cell_type": "code",
      "source": [
        "!pip install gym-anytrading"
      ],
      "metadata": {
        "id": "lEpjZbOUDIaR",
        "colab": {
          "base_uri": "https://localhost:8080/"
        },
        "outputId": "f152052f-e9d7-4ef6-8df1-567b160e2eb9"
      },
      "execution_count": null,
      "outputs": [
        {
          "output_type": "stream",
          "name": "stdout",
          "text": [
            "Looking in indexes: https://pypi.org/simple, https://us-python.pkg.dev/colab-wheels/public/simple/\n",
            "Requirement already satisfied: gym-anytrading in /usr/local/lib/python3.7/dist-packages (1.2.0)\n",
            "Requirement already satisfied: pandas>=0.24.2 in /usr/local/lib/python3.7/dist-packages (from gym-anytrading) (1.3.5)\n",
            "Requirement already satisfied: gym>=0.12.5 in /usr/local/lib/python3.7/dist-packages (from gym-anytrading) (0.19.0)\n",
            "Requirement already satisfied: matplotlib>=3.1.1 in /usr/local/lib/python3.7/dist-packages (from gym-anytrading) (3.2.2)\n",
            "Requirement already satisfied: numpy>=1.16.4 in /usr/local/lib/python3.7/dist-packages (from gym-anytrading) (1.21.6)\n",
            "Requirement already satisfied: cloudpickle<1.7.0,>=1.2.0 in /usr/local/lib/python3.7/dist-packages (from gym>=0.12.5->gym-anytrading) (1.5.0)\n",
            "Requirement already satisfied: pyparsing!=2.0.4,!=2.1.2,!=2.1.6,>=2.0.1 in /usr/local/lib/python3.7/dist-packages (from matplotlib>=3.1.1->gym-anytrading) (3.0.9)\n",
            "Requirement already satisfied: python-dateutil>=2.1 in /usr/local/lib/python3.7/dist-packages (from matplotlib>=3.1.1->gym-anytrading) (2.8.2)\n",
            "Requirement already satisfied: cycler>=0.10 in /usr/local/lib/python3.7/dist-packages (from matplotlib>=3.1.1->gym-anytrading) (0.11.0)\n",
            "Requirement already satisfied: kiwisolver>=1.0.1 in /usr/local/lib/python3.7/dist-packages (from matplotlib>=3.1.1->gym-anytrading) (1.4.4)\n",
            "Requirement already satisfied: pytz>=2017.3 in /usr/local/lib/python3.7/dist-packages (from pandas>=0.24.2->gym-anytrading) (2022.5)\n",
            "Requirement already satisfied: typing-extensions in /usr/local/lib/python3.7/dist-packages (from kiwisolver>=1.0.1->matplotlib>=3.1.1->gym-anytrading) (4.1.1)\n",
            "Requirement already satisfied: six>=1.5 in /usr/local/lib/python3.7/dist-packages (from python-dateutil>=2.1->matplotlib>=3.1.1->gym-anytrading) (1.15.0)\n",
            "\u001b[33mWARNING: Running pip as the 'root' user can result in broken permissions and conflicting behaviour with the system package manager. It is recommended to use a virtual environment instead: https://pip.pypa.io/warnings/venv\u001b[0m\u001b[33m\n",
            "\u001b[0m"
          ]
        }
      ]
    },
    {
      "cell_type": "code",
      "source": [
        "!pip install stable_baselines"
      ],
      "metadata": {
        "id": "UvYwMlmjDKpi",
        "colab": {
          "base_uri": "https://localhost:8080/"
        },
        "outputId": "063fbaa0-01ce-4550-a34d-8d5bb981d929"
      },
      "execution_count": null,
      "outputs": [
        {
          "output_type": "stream",
          "name": "stdout",
          "text": [
            "Looking in indexes: https://pypi.org/simple, https://us-python.pkg.dev/colab-wheels/public/simple/\n",
            "Requirement already satisfied: stable_baselines in /usr/local/lib/python3.7/dist-packages (2.10.1)\n",
            "Requirement already satisfied: joblib in /usr/local/lib/python3.7/dist-packages (from stable_baselines) (1.2.0)\n",
            "Requirement already satisfied: opencv-python in /usr/local/lib/python3.7/dist-packages (from stable_baselines) (4.6.0.66)\n",
            "Requirement already satisfied: cloudpickle>=0.5.5 in /usr/local/lib/python3.7/dist-packages (from stable_baselines) (1.5.0)\n",
            "Requirement already satisfied: numpy in /usr/local/lib/python3.7/dist-packages (from stable_baselines) (1.21.6)\n",
            "Requirement already satisfied: matplotlib in /usr/local/lib/python3.7/dist-packages (from stable_baselines) (3.2.2)\n",
            "Requirement already satisfied: pandas in /usr/local/lib/python3.7/dist-packages (from stable_baselines) (1.3.5)\n",
            "Requirement already satisfied: gym[atari,classic_control]>=0.11 in /usr/local/lib/python3.7/dist-packages (from stable_baselines) (0.19.0)\n",
            "Requirement already satisfied: scipy in /usr/local/lib/python3.7/dist-packages (from stable_baselines) (1.7.3)\n",
            "Requirement already satisfied: pyglet>=1.4.0 in /usr/local/lib/python3.7/dist-packages (from gym[atari,classic_control]>=0.11->stable_baselines) (1.5.0)\n",
            "Requirement already satisfied: atari-py==0.2.6 in /usr/local/lib/python3.7/dist-packages (from gym[atari,classic_control]>=0.11->stable_baselines) (0.2.6)\n",
            "Requirement already satisfied: six in /usr/local/lib/python3.7/dist-packages (from atari-py==0.2.6->gym[atari,classic_control]>=0.11->stable_baselines) (1.15.0)\n",
            "Requirement already satisfied: cycler>=0.10 in /usr/local/lib/python3.7/dist-packages (from matplotlib->stable_baselines) (0.11.0)\n",
            "Requirement already satisfied: pyparsing!=2.0.4,!=2.1.2,!=2.1.6,>=2.0.1 in /usr/local/lib/python3.7/dist-packages (from matplotlib->stable_baselines) (3.0.9)\n",
            "Requirement already satisfied: python-dateutil>=2.1 in /usr/local/lib/python3.7/dist-packages (from matplotlib->stable_baselines) (2.8.2)\n",
            "Requirement already satisfied: kiwisolver>=1.0.1 in /usr/local/lib/python3.7/dist-packages (from matplotlib->stable_baselines) (1.4.4)\n",
            "Requirement already satisfied: pytz>=2017.3 in /usr/local/lib/python3.7/dist-packages (from pandas->stable_baselines) (2022.5)\n",
            "Requirement already satisfied: typing-extensions in /usr/local/lib/python3.7/dist-packages (from kiwisolver>=1.0.1->matplotlib->stable_baselines) (4.1.1)\n",
            "Requirement already satisfied: future in /usr/local/lib/python3.7/dist-packages (from pyglet>=1.4.0->gym[atari,classic_control]>=0.11->stable_baselines) (0.16.0)\n",
            "\u001b[33mWARNING: Running pip as the 'root' user can result in broken permissions and conflicting behaviour with the system package manager. It is recommended to use a virtual environment instead: https://pip.pypa.io/warnings/venv\u001b[0m\u001b[33m\n",
            "\u001b[0m"
          ]
        }
      ]
    },
    {
      "cell_type": "code",
      "source": [
        "!pip install tensorflow==1.15"
      ],
      "metadata": {
        "id": "tze7Z0YxDQjl",
        "colab": {
          "base_uri": "https://localhost:8080/"
        },
        "outputId": "53cace1c-3b05-4a96-d960-2d865d991655"
      },
      "execution_count": null,
      "outputs": [
        {
          "output_type": "stream",
          "name": "stdout",
          "text": [
            "Looking in indexes: https://pypi.org/simple, https://us-python.pkg.dev/colab-wheels/public/simple/\n",
            "Requirement already satisfied: tensorflow==1.15 in /usr/local/lib/python3.7/dist-packages (1.15.0)\n",
            "Requirement already satisfied: astor>=0.6.0 in /usr/local/lib/python3.7/dist-packages (from tensorflow==1.15) (0.8.1)\n",
            "Requirement already satisfied: numpy<2.0,>=1.16.0 in /usr/local/lib/python3.7/dist-packages (from tensorflow==1.15) (1.21.6)\n",
            "Requirement already satisfied: six>=1.10.0 in /usr/local/lib/python3.7/dist-packages (from tensorflow==1.15) (1.15.0)\n",
            "Requirement already satisfied: keras-preprocessing>=1.0.5 in /usr/local/lib/python3.7/dist-packages (from tensorflow==1.15) (1.1.2)\n",
            "Requirement already satisfied: termcolor>=1.1.0 in /usr/local/lib/python3.7/dist-packages (from tensorflow==1.15) (2.0.1)\n",
            "Collecting gast==0.2.2\n",
            "  Using cached gast-0.2.2-py3-none-any.whl\n",
            "Requirement already satisfied: absl-py>=0.7.0 in /usr/local/lib/python3.7/dist-packages (from tensorflow==1.15) (1.3.0)\n",
            "Requirement already satisfied: tensorboard<1.16.0,>=1.15.0 in /usr/local/lib/python3.7/dist-packages (from tensorflow==1.15) (1.15.0)\n",
            "Requirement already satisfied: wheel>=0.26 in /usr/local/lib/python3.7/dist-packages (from tensorflow==1.15) (0.37.1)\n",
            "Requirement already satisfied: tensorflow-estimator==1.15.1 in /usr/local/lib/python3.7/dist-packages (from tensorflow==1.15) (1.15.1)\n",
            "Requirement already satisfied: wrapt>=1.11.1 in /usr/local/lib/python3.7/dist-packages (from tensorflow==1.15) (1.14.1)\n",
            "Requirement already satisfied: google-pasta>=0.1.6 in /usr/local/lib/python3.7/dist-packages (from tensorflow==1.15) (0.2.0)\n",
            "Requirement already satisfied: grpcio>=1.8.6 in /usr/local/lib/python3.7/dist-packages (from tensorflow==1.15) (1.50.0)\n",
            "Requirement already satisfied: opt-einsum>=2.3.2 in /usr/local/lib/python3.7/dist-packages (from tensorflow==1.15) (3.3.0)\n",
            "Requirement already satisfied: keras-applications>=1.0.8 in /usr/local/lib/python3.7/dist-packages (from tensorflow==1.15) (1.0.8)\n",
            "Requirement already satisfied: protobuf>=3.6.1 in /usr/local/lib/python3.7/dist-packages (from tensorflow==1.15) (3.17.3)\n",
            "Requirement already satisfied: h5py in /usr/local/lib/python3.7/dist-packages (from keras-applications>=1.0.8->tensorflow==1.15) (3.1.0)\n",
            "Requirement already satisfied: markdown>=2.6.8 in /usr/local/lib/python3.7/dist-packages (from tensorboard<1.16.0,>=1.15.0->tensorflow==1.15) (3.4.1)\n",
            "Requirement already satisfied: werkzeug>=0.11.15 in /usr/local/lib/python3.7/dist-packages (from tensorboard<1.16.0,>=1.15.0->tensorflow==1.15) (1.0.1)\n",
            "Requirement already satisfied: setuptools>=41.0.0 in /usr/local/lib/python3.7/dist-packages (from tensorboard<1.16.0,>=1.15.0->tensorflow==1.15) (57.4.0)\n",
            "Requirement already satisfied: importlib-metadata>=4.4 in /usr/local/lib/python3.7/dist-packages (from markdown>=2.6.8->tensorboard<1.16.0,>=1.15.0->tensorflow==1.15) (4.13.0)\n",
            "Requirement already satisfied: cached-property in /usr/local/lib/python3.7/dist-packages (from h5py->keras-applications>=1.0.8->tensorflow==1.15) (1.5.2)\n",
            "Requirement already satisfied: zipp>=0.5 in /usr/local/lib/python3.7/dist-packages (from importlib-metadata>=4.4->markdown>=2.6.8->tensorboard<1.16.0,>=1.15.0->tensorflow==1.15) (3.10.0)\n",
            "Requirement already satisfied: typing-extensions>=3.6.4 in /usr/local/lib/python3.7/dist-packages (from importlib-metadata>=4.4->markdown>=2.6.8->tensorboard<1.16.0,>=1.15.0->tensorflow==1.15) (4.1.1)\n",
            "Installing collected packages: gast\n",
            "  Attempting uninstall: gast\n",
            "    Found existing installation: gast 0.3.2\n",
            "    Uninstalling gast-0.3.2:\n",
            "      Successfully uninstalled gast-0.3.2\n",
            "\u001b[31mERROR: pip's dependency resolver does not currently take into account all the packages that are installed. This behaviour is the source of the following dependency conflicts.\n",
            "tensorflow-probability 0.16.0 requires gast>=0.3.2, but you have gast 0.2.2 which is incompatible.\n",
            "kapre 0.3.7 requires tensorflow>=2.0.0, but you have tensorflow 1.15.0 which is incompatible.\u001b[0m\u001b[31m\n",
            "\u001b[0mSuccessfully installed gast-0.2.2\n",
            "\u001b[33mWARNING: Running pip as the 'root' user can result in broken permissions and conflicting behaviour with the system package manager. It is recommended to use a virtual environment instead: https://pip.pypa.io/warnings/venv\u001b[0m\u001b[33m\n",
            "\u001b[0m"
          ]
        }
      ]
    },
    {
      "cell_type": "code",
      "source": [
        "!pip install gast>=0.3.2"
      ],
      "metadata": {
        "id": "eGjI3PeeDWXM",
        "colab": {
          "base_uri": "https://localhost:8080/"
        },
        "outputId": "0f0ae3b1-547d-427e-900d-151f73aad1ab"
      },
      "execution_count": null,
      "outputs": [
        {
          "output_type": "stream",
          "name": "stdout",
          "text": [
            "\u001b[33mWARNING: Running pip as the 'root' user can result in broken permissions and conflicting behaviour with the system package manager. It is recommended to use a virtual environment instead: https://pip.pypa.io/warnings/venv\u001b[0m\u001b[33m\n",
            "\u001b[0m"
          ]
        }
      ]
    },
    {
      "cell_type": "code",
      "source": [
        "!pip install yfinance"
      ],
      "metadata": {
        "id": "Ekl4YTdGDz3l",
        "colab": {
          "base_uri": "https://localhost:8080/"
        },
        "outputId": "152c3625-6eb2-43b6-c9b5-2d63ce0e543b"
      },
      "execution_count": null,
      "outputs": [
        {
          "output_type": "stream",
          "name": "stdout",
          "text": [
            "Looking in indexes: https://pypi.org/simple, https://us-python.pkg.dev/colab-wheels/public/simple/\n",
            "Requirement already satisfied: yfinance in /usr/local/lib/python3.7/dist-packages (0.1.84)\n",
            "Requirement already satisfied: requests>=2.26 in /usr/local/lib/python3.7/dist-packages (from yfinance) (2.28.1)\n",
            "Requirement already satisfied: pandas>=0.24.0 in /usr/local/lib/python3.7/dist-packages (from yfinance) (1.3.5)\n",
            "Requirement already satisfied: numpy>=1.15 in /usr/local/lib/python3.7/dist-packages (from yfinance) (1.21.6)\n",
            "Requirement already satisfied: multitasking>=0.0.7 in /usr/local/lib/python3.7/dist-packages (from yfinance) (0.0.11)\n",
            "Requirement already satisfied: appdirs>=1.4.4 in /usr/local/lib/python3.7/dist-packages (from yfinance) (1.4.4)\n",
            "Requirement already satisfied: lxml>=4.5.1 in /usr/local/lib/python3.7/dist-packages (from yfinance) (4.9.1)\n",
            "Requirement already satisfied: python-dateutil>=2.7.3 in /usr/local/lib/python3.7/dist-packages (from pandas>=0.24.0->yfinance) (2.8.2)\n",
            "Requirement already satisfied: pytz>=2017.3 in /usr/local/lib/python3.7/dist-packages (from pandas>=0.24.0->yfinance) (2022.5)\n",
            "Requirement already satisfied: charset-normalizer<3,>=2 in /usr/local/lib/python3.7/dist-packages (from requests>=2.26->yfinance) (2.1.1)\n",
            "Requirement already satisfied: idna<4,>=2.5 in /usr/local/lib/python3.7/dist-packages (from requests>=2.26->yfinance) (2.10)\n",
            "Requirement already satisfied: certifi>=2017.4.17 in /usr/local/lib/python3.7/dist-packages (from requests>=2.26->yfinance) (2022.9.24)\n",
            "Requirement already satisfied: urllib3<1.27,>=1.21.1 in /usr/local/lib/python3.7/dist-packages (from requests>=2.26->yfinance) (1.24.3)\n",
            "Requirement already satisfied: six>=1.5 in /usr/local/lib/python3.7/dist-packages (from python-dateutil>=2.7.3->pandas>=0.24.0->yfinance) (1.15.0)\n",
            "\u001b[33mWARNING: Running pip as the 'root' user can result in broken permissions and conflicting behaviour with the system package manager. It is recommended to use a virtual environment instead: https://pip.pypa.io/warnings/venv\u001b[0m\u001b[33m\n",
            "\u001b[0m"
          ]
        }
      ]
    },
    {
      "cell_type": "code",
      "source": [
        "!pip install finta"
      ],
      "metadata": {
        "id": "oCRL2kHbR3_w",
        "colab": {
          "base_uri": "https://localhost:8080/"
        },
        "outputId": "7d8317e9-d7e3-4e46-e95b-61e43c3bafd0"
      },
      "execution_count": null,
      "outputs": [
        {
          "output_type": "stream",
          "name": "stdout",
          "text": [
            "Looking in indexes: https://pypi.org/simple, https://us-python.pkg.dev/colab-wheels/public/simple/\n",
            "Requirement already satisfied: finta in /usr/local/lib/python3.7/dist-packages (1.3)\n",
            "Requirement already satisfied: pandas in /usr/local/lib/python3.7/dist-packages (from finta) (1.3.5)\n",
            "Requirement already satisfied: numpy in /usr/local/lib/python3.7/dist-packages (from finta) (1.21.6)\n",
            "Requirement already satisfied: pytz>=2017.3 in /usr/local/lib/python3.7/dist-packages (from pandas->finta) (2022.5)\n",
            "Requirement already satisfied: python-dateutil>=2.7.3 in /usr/local/lib/python3.7/dist-packages (from pandas->finta) (2.8.2)\n",
            "Requirement already satisfied: six>=1.5 in /usr/local/lib/python3.7/dist-packages (from python-dateutil>=2.7.3->pandas->finta) (1.15.0)\n",
            "\u001b[33mWARNING: Running pip as the 'root' user can result in broken permissions and conflicting behaviour with the system package manager. It is recommended to use a virtual environment instead: https://pip.pypa.io/warnings/venv\u001b[0m\u001b[33m\n",
            "\u001b[0m"
          ]
        }
      ]
    },
    {
      "cell_type": "code",
      "source": [
        "import gym\n",
        "import stable_baselines"
      ],
      "metadata": {
        "id": "fP8ihFMwDYqu",
        "colab": {
          "base_uri": "https://localhost:8080/"
        },
        "outputId": "7cb5d0ad-a9ac-4e18-8a0a-ebba418cedb4"
      },
      "execution_count": 2,
      "outputs": [
        {
          "output_type": "stream",
          "name": "stderr",
          "text": [
            "WARNING:tensorflow:\n",
            "The TensorFlow contrib module will not be included in TensorFlow 2.0.\n",
            "For more information, please see:\n",
            "  * https://github.com/tensorflow/community/blob/master/rfcs/20180907-contrib-sunset.md\n",
            "  * https://github.com/tensorflow/addons\n",
            "  * https://github.com/tensorflow/io (for I/O related ops)\n",
            "If you depend on functionality not listed there, please file an issue.\n",
            "\n",
            "/usr/local/lib/python3.7/dist-packages/stable_baselines/__init__.py:33: UserWarning: stable-baselines is in maintenance mode, please use [Stable-Baselines3 (SB3)](https://github.com/DLR-RM/stable-baselines3) for an up-to-date version. You can find a [migration guide](https://stable-baselines3.readthedocs.io/en/master/guide/migration.html) in SB3 documentation.\n",
            "  \"stable-baselines is in maintenance mode, please use [Stable-Baselines3 (SB3)](https://github.com/DLR-RM/stable-baselines3) for an up-to-date version. You can find a [migration guide](https://stable-baselines3.readthedocs.io/en/master/guide/migration.html) in SB3 documentation.\"\n"
          ]
        }
      ]
    },
    {
      "cell_type": "code",
      "source": [
        "import gym\n",
        "import gym_anytrading\n",
        "\n",
        "# Stable baselines - rl stuff\n",
        "from stable_baselines.common.vec_env import DummyVecEnv\n",
        "from stable_baselines import A2C, DQN, PPO1\n",
        "\n",
        "# Processing libraries\n",
        "import numpy as np\n",
        "import pandas as pd\n",
        "from matplotlib import pyplot as plt"
      ],
      "metadata": {
        "id": "OjpUu_JXDdSr"
      },
      "execution_count": 3,
      "outputs": []
    },
    {
      "cell_type": "code",
      "source": [
        "#gym.__version__"
      ],
      "metadata": {
        "id": "EiPlnIWIZTKo",
        "colab": {
          "base_uri": "https://localhost:8080/",
          "height": 36
        },
        "outputId": "9e778db9-8fdd-46ce-9b31-896e18685566"
      },
      "execution_count": null,
      "outputs": [
        {
          "output_type": "execute_result",
          "data": {
            "text/plain": [
              "'0.19.0'"
            ],
            "application/vnd.google.colaboratory.intrinsic+json": {
              "type": "string"
            }
          },
          "metadata": {},
          "execution_count": 13
        }
      ]
    },
    {
      "cell_type": "code",
      "source": [
        "import yfinance as yf\n",
        "msft = yf.Ticker(\"MSFT\")\n",
        "print(msft)"
      ],
      "metadata": {
        "colab": {
          "base_uri": "https://localhost:8080/"
        },
        "id": "BrQZv1qrD4ZA",
        "outputId": "9fddd831-01f1-469c-d5f8-12231f1b2f0a"
      },
      "execution_count": 8,
      "outputs": [
        {
          "output_type": "stream",
          "name": "stdout",
          "text": [
            "yfinance.Ticker object <MSFT>\n"
          ]
        }
      ]
    },
    {
      "cell_type": "code",
      "source": [
        "msft.info"
      ],
      "metadata": {
        "id": "Mx5n2wSZD78w",
        "colab": {
          "base_uri": "https://localhost:8080/"
        },
        "outputId": "7c6d3c91-ae72-4e64-97de-4caa4a0f0671"
      },
      "execution_count": 9,
      "outputs": [
        {
          "output_type": "execute_result",
          "data": {
            "text/plain": [
              "{'zip': '98052-6399',\n",
              " 'sector': 'Technology',\n",
              " 'fullTimeEmployees': 221000,\n",
              " 'longBusinessSummary': 'Microsoft Corporation develops, licenses, and supports software, services, devices, and solutions worldwide. The company operates in three segments: Productivity and Business Processes, Intelligent Cloud, and More Personal Computing. The Productivity and Business Processes segment offers Office, Exchange, SharePoint, Microsoft Teams, Office 365 Security and Compliance, Microsoft Viva, and Skype for Business; Skype, Outlook.com, OneDrive, and LinkedIn; and Dynamics 365, a set of cloud-based and on-premises business solutions for organizations and enterprise divisions. The Intelligent Cloud segment licenses SQL, Windows Servers, Visual Studio, System Center, and related Client Access Licenses; GitHub that provides a collaboration platform and code hosting service for developers; Nuance provides healthcare and enterprise AI solutions; and Azure, a cloud platform. It also offers enterprise support, Microsoft consulting, and nuance professional services to assist customers in developing, deploying, and managing Microsoft server and desktop solutions; and training and certification on Microsoft products. The More Personal Computing segment provides Windows original equipment manufacturer (OEM) licensing and other non-volume licensing of the Windows operating system; Windows Commercial, such as volume licensing of the Windows operating system, Windows cloud services, and other Windows commercial offerings; patent licensing; and Windows Internet of Things. It also offers Surface, PC accessories, PCs, tablets, gaming and entertainment consoles, and other devices; Gaming, including Xbox hardware, and Xbox content and services; video games and third-party video game royalties; and Search, including Bing and Microsoft advertising. The company sells its products through OEMs, distributors, and resellers; and directly through digital marketplaces, online stores, and retail stores. Microsoft Corporation was founded in 1975 and is headquartered in Redmond, Washington.',\n",
              " 'city': 'Redmond',\n",
              " 'phone': '425 882 8080',\n",
              " 'state': 'WA',\n",
              " 'country': 'United States',\n",
              " 'companyOfficers': [],\n",
              " 'website': 'https://www.microsoft.com',\n",
              " 'maxAge': 1,\n",
              " 'address1': 'One Microsoft Way',\n",
              " 'fax': '425 706 7329',\n",
              " 'industry': 'Software—Infrastructure',\n",
              " 'ebitdaMargins': 0.48672,\n",
              " 'profitMargins': 0.34366,\n",
              " 'grossMargins': 0.6826,\n",
              " 'operatingCashflow': 87693000704,\n",
              " 'revenueGrowth': 0.106,\n",
              " 'operatingMargins': 0.41691002,\n",
              " 'ebitda': 98841001984,\n",
              " 'targetLowPrice': 255,\n",
              " 'recommendationKey': 'buy',\n",
              " 'grossProfits': 135620000000,\n",
              " 'freeCashflow': 46155874304,\n",
              " 'targetMedianPrice': 296,\n",
              " 'currentPrice': 232.13,\n",
              " 'earningsGrowth': -0.133,\n",
              " 'currentRatio': 1.84,\n",
              " 'returnOnAssets': 0.15223,\n",
              " 'numberOfAnalystOpinions': 45,\n",
              " 'targetMeanPrice': 306.91,\n",
              " 'debtToEquity': 44.442,\n",
              " 'returnOnEquity': 0.42875,\n",
              " 'targetHighPrice': 411,\n",
              " 'totalCash': 107244003328,\n",
              " 'totalDebt': 77136003072,\n",
              " 'totalRevenue': 203074994176,\n",
              " 'totalCashPerShare': 14.387,\n",
              " 'financialCurrency': 'USD',\n",
              " 'revenuePerShare': 27.142,\n",
              " 'quickRatio': 1.585,\n",
              " 'recommendationMean': 1.7,\n",
              " 'exchange': 'NMS',\n",
              " 'shortName': 'Microsoft Corporation',\n",
              " 'longName': 'Microsoft Corporation',\n",
              " 'exchangeTimezoneName': 'America/New_York',\n",
              " 'exchangeTimezoneShortName': 'EDT',\n",
              " 'isEsgPopulated': False,\n",
              " 'gmtOffSetMilliseconds': '-14400000',\n",
              " 'quoteType': 'EQUITY',\n",
              " 'symbol': 'MSFT',\n",
              " 'messageBoardId': 'finmb_21835',\n",
              " 'market': 'us_market',\n",
              " 'annualHoldingsTurnover': None,\n",
              " 'enterpriseToRevenue': 8.51,\n",
              " 'beta3Year': None,\n",
              " 'enterpriseToEbitda': 17.484,\n",
              " '52WeekChange': -0.2838753,\n",
              " 'morningStarRiskRating': None,\n",
              " 'forwardEps': 11.29,\n",
              " 'revenueQuarterlyGrowth': None,\n",
              " 'sharesOutstanding': 7454470144,\n",
              " 'fundInceptionDate': None,\n",
              " 'annualReportExpenseRatio': None,\n",
              " 'totalAssets': None,\n",
              " 'bookValue': 23.276,\n",
              " 'sharesShort': 38213792,\n",
              " 'sharesPercentSharesOut': 0.0050999997,\n",
              " 'fundFamily': None,\n",
              " 'lastFiscalYearEnd': 1656547200,\n",
              " 'heldPercentInstitutions': 0.71777,\n",
              " 'netIncomeToCommon': 69788999680,\n",
              " 'trailingEps': 9.29,\n",
              " 'lastDividendValue': 0.62,\n",
              " 'SandP52WeekChange': -0.1544562,\n",
              " 'priceToBook': 9.972934,\n",
              " 'heldPercentInsiders': 0.00071000005,\n",
              " 'nextFiscalYearEnd': 1719705600,\n",
              " 'yield': None,\n",
              " 'mostRecentQuarter': 1664496000,\n",
              " 'shortRatio': 1.28,\n",
              " 'sharesShortPreviousMonthDate': 1663200000,\n",
              " 'floatShares': 7447838663,\n",
              " 'beta': 0.960206,\n",
              " 'enterpriseValue': 1728178552832,\n",
              " 'priceHint': 2,\n",
              " 'threeYearAverageReturn': None,\n",
              " 'lastSplitDate': 1045526400,\n",
              " 'lastSplitFactor': '2:1',\n",
              " 'legalType': None,\n",
              " 'lastDividendDate': 1660694400,\n",
              " 'morningStarOverallRating': None,\n",
              " 'earningsQuarterlyGrowth': -0.144,\n",
              " 'priceToSalesTrailing12Months': 8.521021,\n",
              " 'dateShortInterest': 1665705600,\n",
              " 'pegRatio': 1.88,\n",
              " 'ytdReturn': None,\n",
              " 'forwardPE': 20.560673,\n",
              " 'lastCapGain': None,\n",
              " 'shortPercentOfFloat': 0.0050999997,\n",
              " 'sharesShortPriorMonth': 42967330,\n",
              " 'impliedSharesOutstanding': 0,\n",
              " 'category': None,\n",
              " 'fiveYearAverageReturn': None,\n",
              " 'previousClose': 235.87,\n",
              " 'regularMarketOpen': 233.76,\n",
              " 'twoHundredDayAverage': 272.84604,\n",
              " 'trailingAnnualDividendYield': 0.010768644,\n",
              " 'payoutRatio': 0.26700002,\n",
              " 'volume24Hr': None,\n",
              " 'regularMarketDayHigh': 234.92,\n",
              " 'navPrice': None,\n",
              " 'averageDailyVolume10Day': 34581880,\n",
              " 'regularMarketPreviousClose': 235.87,\n",
              " 'fiftyDayAverage': 248.0068,\n",
              " 'trailingAnnualDividendRate': 2.54,\n",
              " 'open': 233.76,\n",
              " 'toCurrency': None,\n",
              " 'averageVolume10days': 34581880,\n",
              " 'expireDate': None,\n",
              " 'algorithm': None,\n",
              " 'dividendRate': 2.72,\n",
              " 'exDividendDate': 1668556800,\n",
              " 'circulatingSupply': None,\n",
              " 'startDate': None,\n",
              " 'regularMarketDayLow': 231.15,\n",
              " 'currency': 'USD',\n",
              " 'trailingPE': 24.987083,\n",
              " 'regularMarketVolume': 26714937,\n",
              " 'lastMarket': None,\n",
              " 'maxSupply': None,\n",
              " 'openInterest': None,\n",
              " 'marketCap': 1730406252544,\n",
              " 'volumeAllCurrencies': None,\n",
              " 'strikePrice': None,\n",
              " 'averageVolume': 26490917,\n",
              " 'dayLow': 231.15,\n",
              " 'ask': 232.79,\n",
              " 'askSize': 1300,\n",
              " 'volume': 26714937,\n",
              " 'fiftyTwoWeekHigh': 349.67,\n",
              " 'fromCurrency': None,\n",
              " 'fiveYearAvgDividendYield': 1.2,\n",
              " 'fiftyTwoWeekLow': 219.13,\n",
              " 'bid': 232.31,\n",
              " 'tradeable': False,\n",
              " 'dividendYield': 0.0115,\n",
              " 'bidSize': 1100,\n",
              " 'dayHigh': 234.92,\n",
              " 'coinMarketCapLink': None,\n",
              " 'regularMarketPrice': 232.13,\n",
              " 'preMarketPrice': 234.04,\n",
              " 'logo_url': 'https://logo.clearbit.com/microsoft.com'}"
            ]
          },
          "metadata": {},
          "execution_count": 9
        }
      ]
    },
    {
      "cell_type": "code",
      "source": [
        "msft.history(period=\"max\")"
      ],
      "metadata": {
        "colab": {
          "base_uri": "https://localhost:8080/",
          "height": 455
        },
        "id": "TrPJkHMND-oa",
        "outputId": "9251bb36-2cb6-41eb-e35e-6e5fda02832b"
      },
      "execution_count": 10,
      "outputs": [
        {
          "output_type": "execute_result",
          "data": {
            "text/plain": [
              "                                 Open        High         Low       Close  \\\n",
              "Date                                                                        \n",
              "1986-03-13 00:00:00-05:00    0.055536    0.063703    0.055536    0.060980   \n",
              "1986-03-14 00:00:00-05:00    0.060980    0.064247    0.060980    0.063158   \n",
              "1986-03-17 00:00:00-05:00    0.063158    0.064792    0.063158    0.064247   \n",
              "1986-03-18 00:00:00-05:00    0.064247    0.064792    0.062069    0.062613   \n",
              "1986-03-19 00:00:00-05:00    0.062613    0.063158    0.060980    0.061524   \n",
              "...                               ...         ...         ...         ...   \n",
              "2022-10-25 00:00:00-04:00  247.259995  251.039993  245.830002  250.660004   \n",
              "2022-10-26 00:00:00-04:00  231.169998  238.300003  230.059998  231.320007   \n",
              "2022-10-27 00:00:00-04:00  231.039993  233.690002  225.779999  226.750000   \n",
              "2022-10-28 00:00:00-04:00  226.240005  236.600006  226.050003  235.869995   \n",
              "2022-10-31 00:00:00-04:00  233.759995  234.919998  231.149994  232.130005   \n",
              "\n",
              "                               Volume  Dividends  Stock Splits  \n",
              "Date                                                            \n",
              "1986-03-13 00:00:00-05:00  1031788800        0.0           0.0  \n",
              "1986-03-14 00:00:00-05:00   308160000        0.0           0.0  \n",
              "1986-03-17 00:00:00-05:00   133171200        0.0           0.0  \n",
              "1986-03-18 00:00:00-05:00    67766400        0.0           0.0  \n",
              "1986-03-19 00:00:00-05:00    47894400        0.0           0.0  \n",
              "...                               ...        ...           ...  \n",
              "2022-10-25 00:00:00-04:00    34775500        0.0           0.0  \n",
              "2022-10-26 00:00:00-04:00    82543200        0.0           0.0  \n",
              "2022-10-27 00:00:00-04:00    40424600        0.0           0.0  \n",
              "2022-10-28 00:00:00-04:00    40614800        0.0           0.0  \n",
              "2022-10-31 00:00:00-04:00    26714937        0.0           0.0  \n",
              "\n",
              "[9235 rows x 7 columns]"
            ],
            "text/html": [
              "\n",
              "  <div id=\"df-a68b3f9e-75a8-4f6f-b869-86dd4e6a2ce7\">\n",
              "    <div class=\"colab-df-container\">\n",
              "      <div>\n",
              "<style scoped>\n",
              "    .dataframe tbody tr th:only-of-type {\n",
              "        vertical-align: middle;\n",
              "    }\n",
              "\n",
              "    .dataframe tbody tr th {\n",
              "        vertical-align: top;\n",
              "    }\n",
              "\n",
              "    .dataframe thead th {\n",
              "        text-align: right;\n",
              "    }\n",
              "</style>\n",
              "<table border=\"1\" class=\"dataframe\">\n",
              "  <thead>\n",
              "    <tr style=\"text-align: right;\">\n",
              "      <th></th>\n",
              "      <th>Open</th>\n",
              "      <th>High</th>\n",
              "      <th>Low</th>\n",
              "      <th>Close</th>\n",
              "      <th>Volume</th>\n",
              "      <th>Dividends</th>\n",
              "      <th>Stock Splits</th>\n",
              "    </tr>\n",
              "    <tr>\n",
              "      <th>Date</th>\n",
              "      <th></th>\n",
              "      <th></th>\n",
              "      <th></th>\n",
              "      <th></th>\n",
              "      <th></th>\n",
              "      <th></th>\n",
              "      <th></th>\n",
              "    </tr>\n",
              "  </thead>\n",
              "  <tbody>\n",
              "    <tr>\n",
              "      <th>1986-03-13 00:00:00-05:00</th>\n",
              "      <td>0.055536</td>\n",
              "      <td>0.063703</td>\n",
              "      <td>0.055536</td>\n",
              "      <td>0.060980</td>\n",
              "      <td>1031788800</td>\n",
              "      <td>0.0</td>\n",
              "      <td>0.0</td>\n",
              "    </tr>\n",
              "    <tr>\n",
              "      <th>1986-03-14 00:00:00-05:00</th>\n",
              "      <td>0.060980</td>\n",
              "      <td>0.064247</td>\n",
              "      <td>0.060980</td>\n",
              "      <td>0.063158</td>\n",
              "      <td>308160000</td>\n",
              "      <td>0.0</td>\n",
              "      <td>0.0</td>\n",
              "    </tr>\n",
              "    <tr>\n",
              "      <th>1986-03-17 00:00:00-05:00</th>\n",
              "      <td>0.063158</td>\n",
              "      <td>0.064792</td>\n",
              "      <td>0.063158</td>\n",
              "      <td>0.064247</td>\n",
              "      <td>133171200</td>\n",
              "      <td>0.0</td>\n",
              "      <td>0.0</td>\n",
              "    </tr>\n",
              "    <tr>\n",
              "      <th>1986-03-18 00:00:00-05:00</th>\n",
              "      <td>0.064247</td>\n",
              "      <td>0.064792</td>\n",
              "      <td>0.062069</td>\n",
              "      <td>0.062613</td>\n",
              "      <td>67766400</td>\n",
              "      <td>0.0</td>\n",
              "      <td>0.0</td>\n",
              "    </tr>\n",
              "    <tr>\n",
              "      <th>1986-03-19 00:00:00-05:00</th>\n",
              "      <td>0.062613</td>\n",
              "      <td>0.063158</td>\n",
              "      <td>0.060980</td>\n",
              "      <td>0.061524</td>\n",
              "      <td>47894400</td>\n",
              "      <td>0.0</td>\n",
              "      <td>0.0</td>\n",
              "    </tr>\n",
              "    <tr>\n",
              "      <th>...</th>\n",
              "      <td>...</td>\n",
              "      <td>...</td>\n",
              "      <td>...</td>\n",
              "      <td>...</td>\n",
              "      <td>...</td>\n",
              "      <td>...</td>\n",
              "      <td>...</td>\n",
              "    </tr>\n",
              "    <tr>\n",
              "      <th>2022-10-25 00:00:00-04:00</th>\n",
              "      <td>247.259995</td>\n",
              "      <td>251.039993</td>\n",
              "      <td>245.830002</td>\n",
              "      <td>250.660004</td>\n",
              "      <td>34775500</td>\n",
              "      <td>0.0</td>\n",
              "      <td>0.0</td>\n",
              "    </tr>\n",
              "    <tr>\n",
              "      <th>2022-10-26 00:00:00-04:00</th>\n",
              "      <td>231.169998</td>\n",
              "      <td>238.300003</td>\n",
              "      <td>230.059998</td>\n",
              "      <td>231.320007</td>\n",
              "      <td>82543200</td>\n",
              "      <td>0.0</td>\n",
              "      <td>0.0</td>\n",
              "    </tr>\n",
              "    <tr>\n",
              "      <th>2022-10-27 00:00:00-04:00</th>\n",
              "      <td>231.039993</td>\n",
              "      <td>233.690002</td>\n",
              "      <td>225.779999</td>\n",
              "      <td>226.750000</td>\n",
              "      <td>40424600</td>\n",
              "      <td>0.0</td>\n",
              "      <td>0.0</td>\n",
              "    </tr>\n",
              "    <tr>\n",
              "      <th>2022-10-28 00:00:00-04:00</th>\n",
              "      <td>226.240005</td>\n",
              "      <td>236.600006</td>\n",
              "      <td>226.050003</td>\n",
              "      <td>235.869995</td>\n",
              "      <td>40614800</td>\n",
              "      <td>0.0</td>\n",
              "      <td>0.0</td>\n",
              "    </tr>\n",
              "    <tr>\n",
              "      <th>2022-10-31 00:00:00-04:00</th>\n",
              "      <td>233.759995</td>\n",
              "      <td>234.919998</td>\n",
              "      <td>231.149994</td>\n",
              "      <td>232.130005</td>\n",
              "      <td>26714937</td>\n",
              "      <td>0.0</td>\n",
              "      <td>0.0</td>\n",
              "    </tr>\n",
              "  </tbody>\n",
              "</table>\n",
              "<p>9235 rows × 7 columns</p>\n",
              "</div>\n",
              "      <button class=\"colab-df-convert\" onclick=\"convertToInteractive('df-a68b3f9e-75a8-4f6f-b869-86dd4e6a2ce7')\"\n",
              "              title=\"Convert this dataframe to an interactive table.\"\n",
              "              style=\"display:none;\">\n",
              "        \n",
              "  <svg xmlns=\"http://www.w3.org/2000/svg\" height=\"24px\"viewBox=\"0 0 24 24\"\n",
              "       width=\"24px\">\n",
              "    <path d=\"M0 0h24v24H0V0z\" fill=\"none\"/>\n",
              "    <path d=\"M18.56 5.44l.94 2.06.94-2.06 2.06-.94-2.06-.94-.94-2.06-.94 2.06-2.06.94zm-11 1L8.5 8.5l.94-2.06 2.06-.94-2.06-.94L8.5 2.5l-.94 2.06-2.06.94zm10 10l.94 2.06.94-2.06 2.06-.94-2.06-.94-.94-2.06-.94 2.06-2.06.94z\"/><path d=\"M17.41 7.96l-1.37-1.37c-.4-.4-.92-.59-1.43-.59-.52 0-1.04.2-1.43.59L10.3 9.45l-7.72 7.72c-.78.78-.78 2.05 0 2.83L4 21.41c.39.39.9.59 1.41.59.51 0 1.02-.2 1.41-.59l7.78-7.78 2.81-2.81c.8-.78.8-2.07 0-2.86zM5.41 20L4 18.59l7.72-7.72 1.47 1.35L5.41 20z\"/>\n",
              "  </svg>\n",
              "      </button>\n",
              "      \n",
              "  <style>\n",
              "    .colab-df-container {\n",
              "      display:flex;\n",
              "      flex-wrap:wrap;\n",
              "      gap: 12px;\n",
              "    }\n",
              "\n",
              "    .colab-df-convert {\n",
              "      background-color: #E8F0FE;\n",
              "      border: none;\n",
              "      border-radius: 50%;\n",
              "      cursor: pointer;\n",
              "      display: none;\n",
              "      fill: #1967D2;\n",
              "      height: 32px;\n",
              "      padding: 0 0 0 0;\n",
              "      width: 32px;\n",
              "    }\n",
              "\n",
              "    .colab-df-convert:hover {\n",
              "      background-color: #E2EBFA;\n",
              "      box-shadow: 0px 1px 2px rgba(60, 64, 67, 0.3), 0px 1px 3px 1px rgba(60, 64, 67, 0.15);\n",
              "      fill: #174EA6;\n",
              "    }\n",
              "\n",
              "    [theme=dark] .colab-df-convert {\n",
              "      background-color: #3B4455;\n",
              "      fill: #D2E3FC;\n",
              "    }\n",
              "\n",
              "    [theme=dark] .colab-df-convert:hover {\n",
              "      background-color: #434B5C;\n",
              "      box-shadow: 0px 1px 3px 1px rgba(0, 0, 0, 0.15);\n",
              "      filter: drop-shadow(0px 1px 2px rgba(0, 0, 0, 0.3));\n",
              "      fill: #FFFFFF;\n",
              "    }\n",
              "  </style>\n",
              "\n",
              "      <script>\n",
              "        const buttonEl =\n",
              "          document.querySelector('#df-a68b3f9e-75a8-4f6f-b869-86dd4e6a2ce7 button.colab-df-convert');\n",
              "        buttonEl.style.display =\n",
              "          google.colab.kernel.accessAllowed ? 'block' : 'none';\n",
              "\n",
              "        async function convertToInteractive(key) {\n",
              "          const element = document.querySelector('#df-a68b3f9e-75a8-4f6f-b869-86dd4e6a2ce7');\n",
              "          const dataTable =\n",
              "            await google.colab.kernel.invokeFunction('convertToInteractive',\n",
              "                                                     [key], {});\n",
              "          if (!dataTable) return;\n",
              "\n",
              "          const docLinkHtml = 'Like what you see? Visit the ' +\n",
              "            '<a target=\"_blank\" href=https://colab.research.google.com/notebooks/data_table.ipynb>data table notebook</a>'\n",
              "            + ' to learn more about interactive tables.';\n",
              "          element.innerHTML = '';\n",
              "          dataTable['output_type'] = 'display_data';\n",
              "          await google.colab.output.renderOutput(dataTable, element);\n",
              "          const docLink = document.createElement('div');\n",
              "          docLink.innerHTML = docLinkHtml;\n",
              "          element.appendChild(docLink);\n",
              "        }\n",
              "      </script>\n",
              "    </div>\n",
              "  </div>\n",
              "  "
            ]
          },
          "metadata": {},
          "execution_count": 10
        }
      ]
    },
    {
      "cell_type": "code",
      "source": [
        "df_msft = yf.download('MSFT', start = '2016-01-01', end = '2022-01-01')"
      ],
      "metadata": {
        "colab": {
          "base_uri": "https://localhost:8080/"
        },
        "id": "2p5cikmDFSbU",
        "outputId": "af7613bc-e01c-4d75-b549-6acb54e1674d"
      },
      "execution_count": 11,
      "outputs": [
        {
          "output_type": "stream",
          "name": "stdout",
          "text": [
            "\r[*********************100%***********************]  1 of 1 completed\n"
          ]
        }
      ]
    },
    {
      "cell_type": "code",
      "source": [
        "#df_msft = yf.download('MSFT', start = '2016-01-01', end = '2022-01-01')\n",
        "df_msft.head()"
      ],
      "metadata": {
        "colab": {
          "base_uri": "https://localhost:8080/",
          "height": 237
        },
        "id": "SsTnn7kGEWuK",
        "outputId": "196be7b1-ef79-4425-fc59-546457741b8b"
      },
      "execution_count": null,
      "outputs": [
        {
          "output_type": "execute_result",
          "data": {
            "text/plain": [
              "                 Open       High        Low      Close  Adj Close    Volume\n",
              "Date                                                                       \n",
              "2016-01-04  54.320000  54.799999  53.389999  54.799999  49.269150  53778000\n",
              "2016-01-05  54.930000  55.389999  54.540001  55.049999  49.493912  34079700\n",
              "2016-01-06  54.320000  54.400002  53.639999  54.049999  48.594849  39518900\n",
              "2016-01-07  52.700001  53.490002  52.070000  52.169998  46.904598  56564900\n",
              "2016-01-08  52.369999  53.279999  52.150002  52.330002  47.048443  48754000"
            ],
            "text/html": [
              "\n",
              "  <div id=\"df-dc64e2dc-3808-422e-8eb0-93a4b7c15f56\">\n",
              "    <div class=\"colab-df-container\">\n",
              "      <div>\n",
              "<style scoped>\n",
              "    .dataframe tbody tr th:only-of-type {\n",
              "        vertical-align: middle;\n",
              "    }\n",
              "\n",
              "    .dataframe tbody tr th {\n",
              "        vertical-align: top;\n",
              "    }\n",
              "\n",
              "    .dataframe thead th {\n",
              "        text-align: right;\n",
              "    }\n",
              "</style>\n",
              "<table border=\"1\" class=\"dataframe\">\n",
              "  <thead>\n",
              "    <tr style=\"text-align: right;\">\n",
              "      <th></th>\n",
              "      <th>Open</th>\n",
              "      <th>High</th>\n",
              "      <th>Low</th>\n",
              "      <th>Close</th>\n",
              "      <th>Adj Close</th>\n",
              "      <th>Volume</th>\n",
              "    </tr>\n",
              "    <tr>\n",
              "      <th>Date</th>\n",
              "      <th></th>\n",
              "      <th></th>\n",
              "      <th></th>\n",
              "      <th></th>\n",
              "      <th></th>\n",
              "      <th></th>\n",
              "    </tr>\n",
              "  </thead>\n",
              "  <tbody>\n",
              "    <tr>\n",
              "      <th>2016-01-04</th>\n",
              "      <td>54.320000</td>\n",
              "      <td>54.799999</td>\n",
              "      <td>53.389999</td>\n",
              "      <td>54.799999</td>\n",
              "      <td>49.269150</td>\n",
              "      <td>53778000</td>\n",
              "    </tr>\n",
              "    <tr>\n",
              "      <th>2016-01-05</th>\n",
              "      <td>54.930000</td>\n",
              "      <td>55.389999</td>\n",
              "      <td>54.540001</td>\n",
              "      <td>55.049999</td>\n",
              "      <td>49.493912</td>\n",
              "      <td>34079700</td>\n",
              "    </tr>\n",
              "    <tr>\n",
              "      <th>2016-01-06</th>\n",
              "      <td>54.320000</td>\n",
              "      <td>54.400002</td>\n",
              "      <td>53.639999</td>\n",
              "      <td>54.049999</td>\n",
              "      <td>48.594849</td>\n",
              "      <td>39518900</td>\n",
              "    </tr>\n",
              "    <tr>\n",
              "      <th>2016-01-07</th>\n",
              "      <td>52.700001</td>\n",
              "      <td>53.490002</td>\n",
              "      <td>52.070000</td>\n",
              "      <td>52.169998</td>\n",
              "      <td>46.904598</td>\n",
              "      <td>56564900</td>\n",
              "    </tr>\n",
              "    <tr>\n",
              "      <th>2016-01-08</th>\n",
              "      <td>52.369999</td>\n",
              "      <td>53.279999</td>\n",
              "      <td>52.150002</td>\n",
              "      <td>52.330002</td>\n",
              "      <td>47.048443</td>\n",
              "      <td>48754000</td>\n",
              "    </tr>\n",
              "  </tbody>\n",
              "</table>\n",
              "</div>\n",
              "      <button class=\"colab-df-convert\" onclick=\"convertToInteractive('df-dc64e2dc-3808-422e-8eb0-93a4b7c15f56')\"\n",
              "              title=\"Convert this dataframe to an interactive table.\"\n",
              "              style=\"display:none;\">\n",
              "        \n",
              "  <svg xmlns=\"http://www.w3.org/2000/svg\" height=\"24px\"viewBox=\"0 0 24 24\"\n",
              "       width=\"24px\">\n",
              "    <path d=\"M0 0h24v24H0V0z\" fill=\"none\"/>\n",
              "    <path d=\"M18.56 5.44l.94 2.06.94-2.06 2.06-.94-2.06-.94-.94-2.06-.94 2.06-2.06.94zm-11 1L8.5 8.5l.94-2.06 2.06-.94-2.06-.94L8.5 2.5l-.94 2.06-2.06.94zm10 10l.94 2.06.94-2.06 2.06-.94-2.06-.94-.94-2.06-.94 2.06-2.06.94z\"/><path d=\"M17.41 7.96l-1.37-1.37c-.4-.4-.92-.59-1.43-.59-.52 0-1.04.2-1.43.59L10.3 9.45l-7.72 7.72c-.78.78-.78 2.05 0 2.83L4 21.41c.39.39.9.59 1.41.59.51 0 1.02-.2 1.41-.59l7.78-7.78 2.81-2.81c.8-.78.8-2.07 0-2.86zM5.41 20L4 18.59l7.72-7.72 1.47 1.35L5.41 20z\"/>\n",
              "  </svg>\n",
              "      </button>\n",
              "      \n",
              "  <style>\n",
              "    .colab-df-container {\n",
              "      display:flex;\n",
              "      flex-wrap:wrap;\n",
              "      gap: 12px;\n",
              "    }\n",
              "\n",
              "    .colab-df-convert {\n",
              "      background-color: #E8F0FE;\n",
              "      border: none;\n",
              "      border-radius: 50%;\n",
              "      cursor: pointer;\n",
              "      display: none;\n",
              "      fill: #1967D2;\n",
              "      height: 32px;\n",
              "      padding: 0 0 0 0;\n",
              "      width: 32px;\n",
              "    }\n",
              "\n",
              "    .colab-df-convert:hover {\n",
              "      background-color: #E2EBFA;\n",
              "      box-shadow: 0px 1px 2px rgba(60, 64, 67, 0.3), 0px 1px 3px 1px rgba(60, 64, 67, 0.15);\n",
              "      fill: #174EA6;\n",
              "    }\n",
              "\n",
              "    [theme=dark] .colab-df-convert {\n",
              "      background-color: #3B4455;\n",
              "      fill: #D2E3FC;\n",
              "    }\n",
              "\n",
              "    [theme=dark] .colab-df-convert:hover {\n",
              "      background-color: #434B5C;\n",
              "      box-shadow: 0px 1px 3px 1px rgba(0, 0, 0, 0.15);\n",
              "      filter: drop-shadow(0px 1px 2px rgba(0, 0, 0, 0.3));\n",
              "      fill: #FFFFFF;\n",
              "    }\n",
              "  </style>\n",
              "\n",
              "      <script>\n",
              "        const buttonEl =\n",
              "          document.querySelector('#df-dc64e2dc-3808-422e-8eb0-93a4b7c15f56 button.colab-df-convert');\n",
              "        buttonEl.style.display =\n",
              "          google.colab.kernel.accessAllowed ? 'block' : 'none';\n",
              "\n",
              "        async function convertToInteractive(key) {\n",
              "          const element = document.querySelector('#df-dc64e2dc-3808-422e-8eb0-93a4b7c15f56');\n",
              "          const dataTable =\n",
              "            await google.colab.kernel.invokeFunction('convertToInteractive',\n",
              "                                                     [key], {});\n",
              "          if (!dataTable) return;\n",
              "\n",
              "          const docLinkHtml = 'Like what you see? Visit the ' +\n",
              "            '<a target=\"_blank\" href=https://colab.research.google.com/notebooks/data_table.ipynb>data table notebook</a>'\n",
              "            + ' to learn more about interactive tables.';\n",
              "          element.innerHTML = '';\n",
              "          dataTable['output_type'] = 'display_data';\n",
              "          await google.colab.output.renderOutput(dataTable, element);\n",
              "          const docLink = document.createElement('div');\n",
              "          docLink.innerHTML = docLinkHtml;\n",
              "          element.appendChild(docLink);\n",
              "        }\n",
              "      </script>\n",
              "    </div>\n",
              "  </div>\n",
              "  "
            ]
          },
          "metadata": {},
          "execution_count": 18
        }
      ]
    },
    {
      "cell_type": "code",
      "source": [
        "df_msft.dtypes\n"
      ],
      "metadata": {
        "colab": {
          "base_uri": "https://localhost:8080/"
        },
        "id": "YE5QGrGGEZ-x",
        "outputId": "fd119ab1-6adf-4b6e-917f-0326c528aaac"
      },
      "execution_count": 12,
      "outputs": [
        {
          "output_type": "execute_result",
          "data": {
            "text/plain": [
              "Open         float64\n",
              "High         float64\n",
              "Low          float64\n",
              "Close        float64\n",
              "Adj Close    float64\n",
              "Volume         int64\n",
              "dtype: object"
            ]
          },
          "metadata": {},
          "execution_count": 12
        }
      ]
    },
    {
      "cell_type": "code",
      "source": [
        "df_msft.index"
      ],
      "metadata": {
        "colab": {
          "base_uri": "https://localhost:8080/"
        },
        "id": "cJ1N2_QsEeP6",
        "outputId": "76efefdf-1776-40f2-afec-a8086b126c09"
      },
      "execution_count": 13,
      "outputs": [
        {
          "output_type": "execute_result",
          "data": {
            "text/plain": [
              "DatetimeIndex(['2016-01-04', '2016-01-05', '2016-01-06', '2016-01-07',\n",
              "               '2016-01-08', '2016-01-11', '2016-01-12', '2016-01-13',\n",
              "               '2016-01-14', '2016-01-15',\n",
              "               ...\n",
              "               '2021-12-17', '2021-12-20', '2021-12-21', '2021-12-22',\n",
              "               '2021-12-23', '2021-12-27', '2021-12-28', '2021-12-29',\n",
              "               '2021-12-30', '2021-12-31'],\n",
              "              dtype='datetime64[ns]', name='Date', length=1511, freq=None)"
            ]
          },
          "metadata": {},
          "execution_count": 13
        }
      ]
    },
    {
      "cell_type": "code",
      "source": [
        "df_msft.dtypes"
      ],
      "metadata": {
        "colab": {
          "base_uri": "https://localhost:8080/"
        },
        "id": "tYJwDCQEEggv",
        "outputId": "d1362aca-200d-4e56-8b4e-153faad9edfb"
      },
      "execution_count": 14,
      "outputs": [
        {
          "output_type": "execute_result",
          "data": {
            "text/plain": [
              "Open         float64\n",
              "High         float64\n",
              "Low          float64\n",
              "Close        float64\n",
              "Adj Close    float64\n",
              "Volume         int64\n",
              "dtype: object"
            ]
          },
          "metadata": {},
          "execution_count": 14
        }
      ]
    },
    {
      "cell_type": "code",
      "source": [
        "import gym, gym_anytrading"
      ],
      "metadata": {
        "id": "fFJEwMzAEi7q"
      },
      "execution_count": 15,
      "outputs": []
    },
    {
      "cell_type": "code",
      "source": [
        "env = gym.make('stocks-v0', df=df_msft, frame_bound=(5,100), window_size=5)"
      ],
      "metadata": {
        "id": "NkzsuRlUEoPl"
      },
      "execution_count": 16,
      "outputs": []
    },
    {
      "cell_type": "code",
      "source": [
        "env.signal_features"
      ],
      "metadata": {
        "id": "ZJTFnuCVEqLv",
        "colab": {
          "base_uri": "https://localhost:8080/"
        },
        "outputId": "c39debc2-c736-4acb-d962-a4e2e8f2a8d9"
      },
      "execution_count": 17,
      "outputs": [
        {
          "output_type": "execute_result",
          "data": {
            "text/plain": [
              "array([[ 5.47999992e+01,  0.00000000e+00],\n",
              "       [ 5.50499992e+01,  2.50000000e-01],\n",
              "       [ 5.40499992e+01, -1.00000000e+00],\n",
              "       [ 5.21699982e+01, -1.88000107e+00],\n",
              "       [ 5.23300018e+01,  1.60003662e-01],\n",
              "       [ 5.22999992e+01, -3.00025940e-02],\n",
              "       [ 5.27799988e+01,  4.79999542e-01],\n",
              "       [ 5.16399994e+01, -1.13999939e+00],\n",
              "       [ 5.31100006e+01,  1.47000122e+00],\n",
              "       [ 5.09900017e+01, -2.11999893e+00],\n",
              "       [ 5.05600014e+01, -4.30000305e-01],\n",
              "       [ 5.07900009e+01,  2.29999542e-01],\n",
              "       [ 5.04799995e+01, -3.10001373e-01],\n",
              "       [ 5.22900009e+01,  1.81000137e+00],\n",
              "       [ 5.17900009e+01, -5.00000000e-01],\n",
              "       [ 5.21699982e+01,  3.79997253e-01],\n",
              "       [ 5.12200012e+01, -9.49996948e-01],\n",
              "       [ 5.20600014e+01,  8.40000153e-01],\n",
              "       [ 5.50900002e+01,  3.02999878e+00],\n",
              "       [ 5.47099991e+01, -3.80001068e-01],\n",
              "       [ 5.30000000e+01, -1.70999908e+00],\n",
              "       [ 5.21599998e+01, -8.40000153e-01],\n",
              "       [ 5.20000000e+01, -1.59999847e-01],\n",
              "       [ 5.01599998e+01, -1.84000015e+00],\n",
              "       [ 4.94099998e+01, -7.50000000e-01],\n",
              "       [ 4.92799988e+01, -1.30001068e-01],\n",
              "       [ 4.97099991e+01,  4.30000305e-01],\n",
              "       [ 4.96899986e+01, -2.00004578e-02],\n",
              "       [ 5.05000000e+01,  8.10001373e-01],\n",
              "       [ 5.10900002e+01,  5.90000153e-01],\n",
              "       [ 5.24199982e+01,  1.32999802e+00],\n",
              "       [ 5.21899986e+01, -2.29999542e-01],\n",
              "       [ 5.18199997e+01, -3.69998932e-01],\n",
              "       [ 5.26500015e+01,  8.30001831e-01],\n",
              "       [ 5.11800003e+01, -1.47000122e+00],\n",
              "       [ 5.13600006e+01,  1.80000305e-01],\n",
              "       [ 5.20999985e+01,  7.39997864e-01],\n",
              "       [ 5.12999992e+01, -7.99999237e-01],\n",
              "       [ 5.08800011e+01, -4.19998169e-01],\n",
              "       [ 5.25800018e+01,  1.70000076e+00],\n",
              "       [ 5.29500008e+01,  3.69998932e-01],\n",
              "       [ 5.23499985e+01, -6.00002289e-01],\n",
              "       [ 5.20299988e+01, -3.19999695e-01],\n",
              "       [ 5.10299988e+01, -1.00000000e+00],\n",
              "       [ 5.16500015e+01,  6.20002747e-01],\n",
              "       [ 5.28400002e+01,  1.18999863e+00],\n",
              "       [ 5.20499992e+01, -7.90000916e-01],\n",
              "       [ 5.30699997e+01,  1.02000046e+00],\n",
              "       [ 5.31699982e+01,  9.99984741e-02],\n",
              "       [ 5.35900002e+01,  4.20001984e-01],\n",
              "       [ 5.43499985e+01,  7.59998322e-01],\n",
              "       [ 5.46599998e+01,  3.10001373e-01],\n",
              "       [ 5.34900017e+01, -1.16999817e+00],\n",
              "       [ 5.38600006e+01,  3.69998932e-01],\n",
              "       [ 5.40699997e+01,  2.09999084e-01],\n",
              "       [ 5.39700012e+01, -9.99984741e-02],\n",
              "       [ 5.42099991e+01,  2.39997864e-01],\n",
              "       [ 5.35400009e+01, -6.69998169e-01],\n",
              "       [ 5.47099991e+01,  1.16999817e+00],\n",
              "       [ 5.50499992e+01,  3.40000153e-01],\n",
              "       [ 5.52299995e+01,  1.80000305e-01],\n",
              "       [ 5.55699997e+01,  3.40000153e-01],\n",
              "       [ 5.54300003e+01, -1.39999390e-01],\n",
              "       [ 5.45600014e+01, -8.69998932e-01],\n",
              "       [ 5.51199989e+01,  5.59997559e-01],\n",
              "       [ 5.44599991e+01, -6.59999847e-01],\n",
              "       [ 5.44199982e+01, -4.00009155e-02],\n",
              "       [ 5.43100014e+01, -1.09996796e-01],\n",
              "       [ 5.46500015e+01,  3.40000153e-01],\n",
              "       [ 5.53499985e+01,  6.99996948e-01],\n",
              "       [ 5.53600006e+01,  1.00021362e-02],\n",
              "       [ 5.56500015e+01,  2.90000916e-01],\n",
              "       [ 5.64599991e+01,  8.09997559e-01],\n",
              "       [ 5.63899994e+01, -6.99996948e-02],\n",
              "       [ 5.55900002e+01, -7.99999237e-01],\n",
              "       [ 5.57799988e+01,  1.89998627e-01],\n",
              "       [ 5.17799988e+01, -4.00000000e+00],\n",
              "       [ 5.21100006e+01,  3.30001831e-01],\n",
              "       [ 5.14399986e+01, -6.70001984e-01],\n",
              "       [ 5.09399986e+01, -5.00000000e-01],\n",
              "       [ 4.99000015e+01, -1.03999710e+00],\n",
              "       [ 4.98699989e+01, -3.00025940e-02],\n",
              "       [ 5.06100006e+01,  7.40001678e-01],\n",
              "       [ 4.97799988e+01, -8.30001831e-01],\n",
              "       [ 4.98699989e+01,  9.00001526e-02],\n",
              "       [ 4.99399986e+01,  6.99996948e-02],\n",
              "       [ 5.03899994e+01,  4.50000763e-01],\n",
              "       [ 5.00699997e+01, -3.19999695e-01],\n",
              "       [ 5.10200005e+01,  9.50000763e-01],\n",
              "       [ 5.10499992e+01,  2.99987793e-02],\n",
              "       [ 5.15099983e+01,  4.59999084e-01],\n",
              "       [ 5.10800018e+01, -4.29996490e-01],\n",
              "       [ 5.18300018e+01,  7.50000000e-01],\n",
              "       [ 5.05099983e+01, -1.32000351e+00],\n",
              "       [ 5.08100014e+01,  3.00003052e-01],\n",
              "       [ 5.03199997e+01, -4.90001678e-01],\n",
              "       [ 5.06199989e+01,  2.99999237e-01],\n",
              "       [ 5.00299988e+01, -5.90000153e-01],\n",
              "       [ 5.15900002e+01,  1.56000137e+00],\n",
              "       [ 5.21199989e+01,  5.29998779e-01]])"
            ]
          },
          "metadata": {},
          "execution_count": 17
        }
      ]
    },
    {
      "cell_type": "code",
      "source": [
        "env.action_space"
      ],
      "metadata": {
        "colab": {
          "base_uri": "https://localhost:8080/"
        },
        "id": "69OIdLxkExwk",
        "outputId": "ad592302-bfe4-4d4d-a65f-65307f3cb128"
      },
      "execution_count": 18,
      "outputs": [
        {
          "output_type": "execute_result",
          "data": {
            "text/plain": [
              "Discrete(2)"
            ]
          },
          "metadata": {},
          "execution_count": 18
        }
      ]
    },
    {
      "cell_type": "code",
      "source": [
        "state = env.reset()\n",
        "while True: \n",
        "    action = env.action_space.sample()\n",
        "    n_state, reward, done, info = env.step(action)\n",
        "    if done: \n",
        "        print(\"info\", info)\n",
        "        break\n",
        "        \n",
        "plt.figure(figsize=(15,6))\n",
        "plt.cla()\n",
        "env.render_all()\n",
        "plt.show()"
      ],
      "metadata": {
        "colab": {
          "base_uri": "https://localhost:8080/",
          "height": 434
        },
        "id": "qTlxaqdRE6NW",
        "outputId": "d824326e-7fd2-4af8-ab55-c377df592018"
      },
      "execution_count": 19,
      "outputs": [
        {
          "output_type": "stream",
          "name": "stdout",
          "text": [
            "info {'total_reward': -2.4900054931640625, 'total_profit': 0.6228268508316679, 'position': 0}\n"
          ]
        },
        {
          "output_type": "display_data",
          "data": {
            "text/plain": [
              "<Figure size 1080x432 with 1 Axes>"
            ],
            "image/png": "[encoded data removed]"
          },
          "metadata": {
            "needs_background": "light"
          }
        }
      ]
    },
    {
      "cell_type": "markdown",
      "source": [
        "## Adding Indicators\n",
        "Simple Moving Average 'SMA'\n",
        "\n",
        "Relative Strength Index 'RSI'\n",
        "\n",
        "On Balance Volume 'OBV'\n",
        "\n",
        "Market Momentum 'MOM'"
      ],
      "metadata": {
        "id": "xxjOGO84R9uX"
      }
    },
    {
      "cell_type": "code",
      "source": [
        "from gym_anytrading.envs import StocksEnv\n",
        "from finta import TA"
      ],
      "metadata": {
        "id": "Ung-BVBGR9fq"
      },
      "execution_count": 5,
      "outputs": []
    },
    {
      "cell_type": "code",
      "source": [
        "#df_msft['SSMA'] = TA.SSMA(df_msft, 12)\n",
        "#df_msft['STOCH'] = TA.STOCH(df_msft)\n",
        "df_msft['OBV'] = TA.OBV(df_msft)\n",
        "df_msft['EMA'] = TA.EMA(df_msft)\n",
        "df_msft['RSI'] = TA.RSI(df_msft)\n",
        "df_msft['MOM'] = TA.MOM(df_msft)\n",
        "df_msft.fillna(0, inplace=True)"
      ],
      "metadata": {
        "id": "B8eYGyWcR9c2"
      },
      "execution_count": 20,
      "outputs": []
    },
    {
      "cell_type": "code",
      "source": [
        "df_msft.tail()"
      ],
      "metadata": {
        "colab": {
          "base_uri": "https://localhost:8080/",
          "height": 237
        },
        "id": "CPcITIaJR9ae",
        "outputId": "e4ebd996-9e0d-42ef-f438-86e78564003b"
      },
      "execution_count": 21,
      "outputs": [
        {
          "output_type": "execute_result",
          "data": {
            "text/plain": [
              "                  Open        High         Low       Close   Adj Close  \\\n",
              "Date                                                                     \n",
              "2021-12-27  335.459991  342.480011  335.429993  342.450012  340.227112   \n",
              "2021-12-28  343.149994  343.809998  340.320007  341.250000  339.034882   \n",
              "2021-12-29  341.299988  344.299988  339.679993  341.950012  339.730377   \n",
              "2021-12-30  341.910004  343.130005  338.820007  339.320007  337.117401   \n",
              "2021-12-31  338.510010  339.359985  335.850006  336.320007  334.136902   \n",
              "\n",
              "              Volume           OBV         EMA        RSI        MOM  \n",
              "Date                                                                  \n",
              "2021-12-27  19947000  2.546094e+09  332.718968  59.270353  -0.089996  \n",
              "2021-12-28  15661500  2.530433e+09  334.425174  58.131276   1.850006  \n",
              "2021-12-29  15042000  2.545475e+09  335.930142  58.630733  13.610016  \n",
              "2021-12-30  15994500  2.529480e+09  336.608115  55.931143   4.670013  \n",
              "2021-12-31  18000800  2.511479e+09  336.550493  52.936944  11.420013  "
            ],
            "text/html": [
              "\n",
              "  <div id=\"df-a4f9925a-7f2c-40d1-9c69-044b3f43c958\">\n",
              "    <div class=\"colab-df-container\">\n",
              "      <div>\n",
              "<style scoped>\n",
              "    .dataframe tbody tr th:only-of-type {\n",
              "        vertical-align: middle;\n",
              "    }\n",
              "\n",
              "    .dataframe tbody tr th {\n",
              "        vertical-align: top;\n",
              "    }\n",
              "\n",
              "    .dataframe thead th {\n",
              "        text-align: right;\n",
              "    }\n",
              "</style>\n",
              "<table border=\"1\" class=\"dataframe\">\n",
              "  <thead>\n",
              "    <tr style=\"text-align: right;\">\n",
              "      <th></th>\n",
              "      <th>Open</th>\n",
              "      <th>High</th>\n",
              "      <th>Low</th>\n",
              "      <th>Close</th>\n",
              "      <th>Adj Close</th>\n",
              "      <th>Volume</th>\n",
              "      <th>OBV</th>\n",
              "      <th>EMA</th>\n",
              "      <th>RSI</th>\n",
              "      <th>MOM</th>\n",
              "    </tr>\n",
              "    <tr>\n",
              "      <th>Date</th>\n",
              "      <th></th>\n",
              "      <th></th>\n",
              "      <th></th>\n",
              "      <th></th>\n",
              "      <th></th>\n",
              "      <th></th>\n",
              "      <th></th>\n",
              "      <th></th>\n",
              "      <th></th>\n",
              "      <th></th>\n",
              "    </tr>\n",
              "  </thead>\n",
              "  <tbody>\n",
              "    <tr>\n",
              "      <th>2021-12-27</th>\n",
              "      <td>335.459991</td>\n",
              "      <td>342.480011</td>\n",
              "      <td>335.429993</td>\n",
              "      <td>342.450012</td>\n",
              "      <td>340.227112</td>\n",
              "      <td>19947000</td>\n",
              "      <td>2.546094e+09</td>\n",
              "      <td>332.718968</td>\n",
              "      <td>59.270353</td>\n",
              "      <td>-0.089996</td>\n",
              "    </tr>\n",
              "    <tr>\n",
              "      <th>2021-12-28</th>\n",
              "      <td>343.149994</td>\n",
              "      <td>343.809998</td>\n",
              "      <td>340.320007</td>\n",
              "      <td>341.250000</td>\n",
              "      <td>339.034882</td>\n",
              "      <td>15661500</td>\n",
              "      <td>2.530433e+09</td>\n",
              "      <td>334.425174</td>\n",
              "      <td>58.131276</td>\n",
              "      <td>1.850006</td>\n",
              "    </tr>\n",
              "    <tr>\n",
              "      <th>2021-12-29</th>\n",
              "      <td>341.299988</td>\n",
              "      <td>344.299988</td>\n",
              "      <td>339.679993</td>\n",
              "      <td>341.950012</td>\n",
              "      <td>339.730377</td>\n",
              "      <td>15042000</td>\n",
              "      <td>2.545475e+09</td>\n",
              "      <td>335.930142</td>\n",
              "      <td>58.630733</td>\n",
              "      <td>13.610016</td>\n",
              "    </tr>\n",
              "    <tr>\n",
              "      <th>2021-12-30</th>\n",
              "      <td>341.910004</td>\n",
              "      <td>343.130005</td>\n",
              "      <td>338.820007</td>\n",
              "      <td>339.320007</td>\n",
              "      <td>337.117401</td>\n",
              "      <td>15994500</td>\n",
              "      <td>2.529480e+09</td>\n",
              "      <td>336.608115</td>\n",
              "      <td>55.931143</td>\n",
              "      <td>4.670013</td>\n",
              "    </tr>\n",
              "    <tr>\n",
              "      <th>2021-12-31</th>\n",
              "      <td>338.510010</td>\n",
              "      <td>339.359985</td>\n",
              "      <td>335.850006</td>\n",
              "      <td>336.320007</td>\n",
              "      <td>334.136902</td>\n",
              "      <td>18000800</td>\n",
              "      <td>2.511479e+09</td>\n",
              "      <td>336.550493</td>\n",
              "      <td>52.936944</td>\n",
              "      <td>11.420013</td>\n",
              "    </tr>\n",
              "  </tbody>\n",
              "</table>\n",
              "</div>\n",
              "      <button class=\"colab-df-convert\" onclick=\"convertToInteractive('df-a4f9925a-7f2c-40d1-9c69-044b3f43c958')\"\n",
              "              title=\"Convert this dataframe to an interactive table.\"\n",
              "              style=\"display:none;\">\n",
              "        \n",
              "  <svg xmlns=\"http://www.w3.org/2000/svg\" height=\"24px\"viewBox=\"0 0 24 24\"\n",
              "       width=\"24px\">\n",
              "    <path d=\"M0 0h24v24H0V0z\" fill=\"none\"/>\n",
              "    <path d=\"M18.56 5.44l.94 2.06.94-2.06 2.06-.94-2.06-.94-.94-2.06-.94 2.06-2.06.94zm-11 1L8.5 8.5l.94-2.06 2.06-.94-2.06-.94L8.5 2.5l-.94 2.06-2.06.94zm10 10l.94 2.06.94-2.06 2.06-.94-2.06-.94-.94-2.06-.94 2.06-2.06.94z\"/><path d=\"M17.41 7.96l-1.37-1.37c-.4-.4-.92-.59-1.43-.59-.52 0-1.04.2-1.43.59L10.3 9.45l-7.72 7.72c-.78.78-.78 2.05 0 2.83L4 21.41c.39.39.9.59 1.41.59.51 0 1.02-.2 1.41-.59l7.78-7.78 2.81-2.81c.8-.78.8-2.07 0-2.86zM5.41 20L4 18.59l7.72-7.72 1.47 1.35L5.41 20z\"/>\n",
              "  </svg>\n",
              "      </button>\n",
              "      \n",
              "  <style>\n",
              "    .colab-df-container {\n",
              "      display:flex;\n",
              "      flex-wrap:wrap;\n",
              "      gap: 12px;\n",
              "    }\n",
              "\n",
              "    .colab-df-convert {\n",
              "      background-color: #E8F0FE;\n",
              "      border: none;\n",
              "      border-radius: 50%;\n",
              "      cursor: pointer;\n",
              "      display: none;\n",
              "      fill: #1967D2;\n",
              "      height: 32px;\n",
              "      padding: 0 0 0 0;\n",
              "      width: 32px;\n",
              "    }\n",
              "\n",
              "    .colab-df-convert:hover {\n",
              "      background-color: #E2EBFA;\n",
              "      box-shadow: 0px 1px 2px rgba(60, 64, 67, 0.3), 0px 1px 3px 1px rgba(60, 64, 67, 0.15);\n",
              "      fill: #174EA6;\n",
              "    }\n",
              "\n",
              "    [theme=dark] .colab-df-convert {\n",
              "      background-color: #3B4455;\n",
              "      fill: #D2E3FC;\n",
              "    }\n",
              "\n",
              "    [theme=dark] .colab-df-convert:hover {\n",
              "      background-color: #434B5C;\n",
              "      box-shadow: 0px 1px 3px 1px rgba(0, 0, 0, 0.15);\n",
              "      filter: drop-shadow(0px 1px 2px rgba(0, 0, 0, 0.3));\n",
              "      fill: #FFFFFF;\n",
              "    }\n",
              "  </style>\n",
              "\n",
              "      <script>\n",
              "        const buttonEl =\n",
              "          document.querySelector('#df-a4f9925a-7f2c-40d1-9c69-044b3f43c958 button.colab-df-convert');\n",
              "        buttonEl.style.display =\n",
              "          google.colab.kernel.accessAllowed ? 'block' : 'none';\n",
              "\n",
              "        async function convertToInteractive(key) {\n",
              "          const element = document.querySelector('#df-a4f9925a-7f2c-40d1-9c69-044b3f43c958');\n",
              "          const dataTable =\n",
              "            await google.colab.kernel.invokeFunction('convertToInteractive',\n",
              "                                                     [key], {});\n",
              "          if (!dataTable) return;\n",
              "\n",
              "          const docLinkHtml = 'Like what you see? Visit the ' +\n",
              "            '<a target=\"_blank\" href=https://colab.research.google.com/notebooks/data_table.ipynb>data table notebook</a>'\n",
              "            + ' to learn more about interactive tables.';\n",
              "          element.innerHTML = '';\n",
              "          dataTable['output_type'] = 'display_data';\n",
              "          await google.colab.output.renderOutput(dataTable, element);\n",
              "          const docLink = document.createElement('div');\n",
              "          docLink.innerHTML = docLinkHtml;\n",
              "          element.appendChild(docLink);\n",
              "        }\n",
              "      </script>\n",
              "    </div>\n",
              "  </div>\n",
              "  "
            ]
          },
          "metadata": {},
          "execution_count": 21
        }
      ]
    },
    {
      "cell_type": "code",
      "source": [
        "def add_signals(env):\n",
        "    start = env.frame_bound[0] - env.window_size\n",
        "    end = env.frame_bound[1]\n",
        "    prices = env.df.loc[:, 'Low'].to_numpy()[start:end]\n",
        "    signal_features = env.df.loc[:, ['Low', 'Volume', 'OBV','EMA', 'RSI', 'MOM']].to_numpy()[start:end]\n",
        "    return prices, signal_features\n",
        "\n",
        "class MyCustomEnv(StocksEnv):\n",
        "    _process_data = add_signals\n",
        "    \n",
        "env2 = MyCustomEnv(df=df_msft, window_size=5, frame_bound=(90,110))"
      ],
      "metadata": {
        "id": "BTEzIz2ETErL"
      },
      "execution_count": null,
      "outputs": []
    },
    {
      "cell_type": "code",
      "source": [
        "#env2.signal_features"
      ],
      "metadata": {
        "id": "rVH4YgnQTWLI"
      },
      "execution_count": null,
      "outputs": []
    },
    {
      "cell_type": "code",
      "source": [
        "env_maker = lambda: env2\n",
        "env = DummyVecEnv([env_maker])"
      ],
      "metadata": {
        "id": "tp2tXZgxFADL"
      },
      "execution_count": null,
      "outputs": []
    },
    {
      "cell_type": "code",
      "source": [
        "model = DQN('MlpPolicy', env, gamma=0.99, learning_rate=0.0001, verbose=1) \n",
        "model.learn(total_timesteps= 100000)"
      ],
      "metadata": {
        "colab": {
          "base_uri": "https://localhost:8080/"
        },
        "id": "QbkzKtUZGdSk",
        "outputId": "909d6ede-153a-4849-9904-0fd6bd3b4645"
      },
      "execution_count": null,
      "outputs": [
        {
          "output_type": "stream",
          "name": "stderr",
          "text": [
            "WARNING:tensorflow:From /usr/local/lib/python3.7/dist-packages/stable_baselines/common/tf_util.py:191: The name tf.ConfigProto is deprecated. Please use tf.compat.v1.ConfigProto instead.\n",
            "\n",
            "WARNING:tensorflow:From /usr/local/lib/python3.7/dist-packages/stable_baselines/common/tf_util.py:200: The name tf.Session is deprecated. Please use tf.compat.v1.Session instead.\n",
            "\n",
            "WARNING:tensorflow:From /usr/local/lib/python3.7/dist-packages/stable_baselines/deepq/dqn.py:129: The name tf.train.AdamOptimizer is deprecated. Please use tf.compat.v1.train.AdamOptimizer instead.\n",
            "\n",
            "WARNING:tensorflow:From /usr/local/lib/python3.7/dist-packages/stable_baselines/deepq/build_graph.py:358: The name tf.variable_scope is deprecated. Please use tf.compat.v1.variable_scope instead.\n",
            "\n",
            "WARNING:tensorflow:From /usr/local/lib/python3.7/dist-packages/stable_baselines/deepq/build_graph.py:359: The name tf.placeholder is deprecated. Please use tf.compat.v1.placeholder instead.\n",
            "\n",
            "WARNING:tensorflow:From /usr/local/lib/python3.7/dist-packages/stable_baselines/deepq/build_graph.py:139: The name tf.get_variable is deprecated. Please use tf.compat.v1.get_variable instead.\n",
            "\n",
            "WARNING:tensorflow:From /usr/local/lib/python3.7/dist-packages/stable_baselines/deepq/policies.py:109: flatten (from tensorflow.python.layers.core) is deprecated and will be removed in a future version.\n",
            "Instructions for updating:\n",
            "Use keras.layers.flatten instead.\n",
            "WARNING:tensorflow:From /usr/local/lib/python3.7/dist-packages/tensorflow_core/python/layers/core.py:332: Layer.apply (from tensorflow.python.keras.engine.base_layer) is deprecated and will be removed in a future version.\n",
            "Instructions for updating:\n",
            "Please use `layer.__call__` method instead.\n",
            "WARNING:tensorflow:From /usr/local/lib/python3.7/dist-packages/stable_baselines/deepq/build_graph.py:147: The name tf.random_uniform is deprecated. Please use tf.random.uniform instead.\n",
            "\n",
            "WARNING:tensorflow:From /usr/local/lib/python3.7/dist-packages/stable_baselines/deepq/build_graph.py:149: where (from tensorflow.python.ops.array_ops) is deprecated and will be removed in a future version.\n",
            "Instructions for updating:\n",
            "Use tf.where in 2.0, which has the same broadcast rule as np.where\n",
            "WARNING:tensorflow:From /usr/local/lib/python3.7/dist-packages/stable_baselines/deepq/build_graph.py:372: The name tf.get_collection is deprecated. Please use tf.compat.v1.get_collection instead.\n",
            "\n",
            "WARNING:tensorflow:From /usr/local/lib/python3.7/dist-packages/stable_baselines/deepq/build_graph.py:372: The name tf.GraphKeys is deprecated. Please use tf.compat.v1.GraphKeys instead.\n",
            "\n",
            "WARNING:tensorflow:From /usr/local/lib/python3.7/dist-packages/stable_baselines/deepq/build_graph.py:372: The name tf.get_variable_scope is deprecated. Please use tf.compat.v1.get_variable_scope instead.\n",
            "\n",
            "WARNING:tensorflow:From /usr/local/lib/python3.7/dist-packages/stable_baselines/deepq/build_graph.py:415: The name tf.summary.scalar is deprecated. Please use tf.compat.v1.summary.scalar instead.\n",
            "\n",
            "WARNING:tensorflow:From /usr/local/lib/python3.7/dist-packages/stable_baselines/deepq/build_graph.py:449: The name tf.summary.merge_all is deprecated. Please use tf.compat.v1.summary.merge_all instead.\n",
            "\n",
            "WARNING:tensorflow:From /usr/local/lib/python3.7/dist-packages/stable_baselines/common/tf_util.py:241: The name tf.global_variables is deprecated. Please use tf.compat.v1.global_variables instead.\n",
            "\n",
            "WARNING:tensorflow:From /usr/local/lib/python3.7/dist-packages/stable_baselines/common/tf_util.py:242: The name tf.variables_initializer is deprecated. Please use tf.compat.v1.variables_initializer instead.\n",
            "\n",
            "WARNING:tensorflow:From /usr/local/lib/python3.7/dist-packages/stable_baselines/common/tf_util.py:322: The name tf.get_default_session is deprecated. Please use tf.compat.v1.get_default_session instead.\n",
            "\n"
          ]
        },
        {
          "output_type": "stream",
          "name": "stdout",
          "text": [
            "--------------------------------------\n",
            "| % time spent exploring  | 81       |\n",
            "| episodes                | 100      |\n",
            "| mean 100 episode reward | 0.3      |\n",
            "| steps                   | 1881     |\n",
            "--------------------------------------\n",
            "--------------------------------------\n",
            "| % time spent exploring  | 62       |\n",
            "| episodes                | 200      |\n",
            "| mean 100 episode reward | 0.5      |\n",
            "| steps                   | 3781     |\n",
            "--------------------------------------\n",
            "--------------------------------------\n",
            "| % time spent exploring  | 44       |\n",
            "| episodes                | 300      |\n",
            "| mean 100 episode reward | 0.3      |\n",
            "| steps                   | 5681     |\n",
            "--------------------------------------\n",
            "--------------------------------------\n",
            "| % time spent exploring  | 25       |\n",
            "| episodes                | 400      |\n",
            "| mean 100 episode reward | 0.5      |\n",
            "| steps                   | 7581     |\n",
            "--------------------------------------\n",
            "--------------------------------------\n",
            "| % time spent exploring  | 7        |\n",
            "| episodes                | 500      |\n",
            "| mean 100 episode reward | 0.3      |\n",
            "| steps                   | 9481     |\n",
            "--------------------------------------\n",
            "--------------------------------------\n",
            "| % time spent exploring  | 2        |\n",
            "| episodes                | 600      |\n",
            "| mean 100 episode reward | 0.5      |\n",
            "| steps                   | 11381    |\n",
            "--------------------------------------\n",
            "--------------------------------------\n",
            "| % time spent exploring  | 2        |\n",
            "| episodes                | 700      |\n",
            "| mean 100 episode reward | 0.8      |\n",
            "| steps                   | 13281    |\n",
            "--------------------------------------\n",
            "--------------------------------------\n",
            "| % time spent exploring  | 2        |\n",
            "| episodes                | 800      |\n",
            "| mean 100 episode reward | 0.3      |\n",
            "| steps                   | 15181    |\n",
            "--------------------------------------\n",
            "--------------------------------------\n",
            "| % time spent exploring  | 2        |\n",
            "| episodes                | 900      |\n",
            "| mean 100 episode reward | 0.5      |\n",
            "| steps                   | 17081    |\n",
            "--------------------------------------\n",
            "--------------------------------------\n",
            "| % time spent exploring  | 2        |\n",
            "| episodes                | 1000     |\n",
            "| mean 100 episode reward | 0.3      |\n",
            "| steps                   | 18981    |\n",
            "--------------------------------------\n",
            "--------------------------------------\n",
            "| % time spent exploring  | 2        |\n",
            "| episodes                | 1100     |\n",
            "| mean 100 episode reward | 0.3      |\n",
            "| steps                   | 20881    |\n",
            "--------------------------------------\n",
            "--------------------------------------\n",
            "| % time spent exploring  | 2        |\n",
            "| episodes                | 1200     |\n",
            "| mean 100 episode reward | 0.2      |\n",
            "| steps                   | 22781    |\n",
            "--------------------------------------\n",
            "--------------------------------------\n",
            "| % time spent exploring  | 2        |\n",
            "| episodes                | 1300     |\n",
            "| mean 100 episode reward | 0.4      |\n",
            "| steps                   | 24681    |\n",
            "--------------------------------------\n",
            "--------------------------------------\n",
            "| % time spent exploring  | 2        |\n",
            "| episodes                | 1400     |\n",
            "| mean 100 episode reward | 0.3      |\n",
            "| steps                   | 26581    |\n",
            "--------------------------------------\n",
            "--------------------------------------\n",
            "| % time spent exploring  | 2        |\n",
            "| episodes                | 1500     |\n",
            "| mean 100 episode reward | 0.7      |\n",
            "| steps                   | 28481    |\n",
            "--------------------------------------\n",
            "--------------------------------------\n",
            "| % time spent exploring  | 2        |\n",
            "| episodes                | 1600     |\n",
            "| mean 100 episode reward | 0.4      |\n",
            "| steps                   | 30381    |\n",
            "--------------------------------------\n",
            "--------------------------------------\n",
            "| % time spent exploring  | 2        |\n",
            "| episodes                | 1700     |\n",
            "| mean 100 episode reward | 0.3      |\n",
            "| steps                   | 32281    |\n",
            "--------------------------------------\n",
            "--------------------------------------\n",
            "| % time spent exploring  | 2        |\n",
            "| episodes                | 1800     |\n",
            "| mean 100 episode reward | 0.3      |\n",
            "| steps                   | 34181    |\n",
            "--------------------------------------\n",
            "--------------------------------------\n",
            "| % time spent exploring  | 2        |\n",
            "| episodes                | 1900     |\n",
            "| mean 100 episode reward | 0        |\n",
            "| steps                   | 36081    |\n",
            "--------------------------------------\n",
            "--------------------------------------\n",
            "| % time spent exploring  | 2        |\n",
            "| episodes                | 2000     |\n",
            "| mean 100 episode reward | 0.3      |\n",
            "| steps                   | 37981    |\n",
            "--------------------------------------\n",
            "--------------------------------------\n",
            "| % time spent exploring  | 2        |\n",
            "| episodes                | 2100     |\n",
            "| mean 100 episode reward | 0.1      |\n",
            "| steps                   | 39881    |\n",
            "--------------------------------------\n",
            "--------------------------------------\n",
            "| % time spent exploring  | 2        |\n",
            "| episodes                | 2200     |\n",
            "| mean 100 episode reward | 0.3      |\n",
            "| steps                   | 41781    |\n",
            "--------------------------------------\n",
            "--------------------------------------\n",
            "| % time spent exploring  | 2        |\n",
            "| episodes                | 2300     |\n",
            "| mean 100 episode reward | 0.5      |\n",
            "| steps                   | 43681    |\n",
            "--------------------------------------\n",
            "--------------------------------------\n",
            "| % time spent exploring  | 2        |\n",
            "| episodes                | 2400     |\n",
            "| mean 100 episode reward | 0.3      |\n",
            "| steps                   | 45581    |\n",
            "--------------------------------------\n",
            "--------------------------------------\n",
            "| % time spent exploring  | 2        |\n",
            "| episodes                | 2500     |\n",
            "| mean 100 episode reward | 0.3      |\n",
            "| steps                   | 47481    |\n",
            "--------------------------------------\n",
            "--------------------------------------\n",
            "| % time spent exploring  | 2        |\n",
            "| episodes                | 2600     |\n",
            "| mean 100 episode reward | 0.3      |\n",
            "| steps                   | 49381    |\n",
            "--------------------------------------\n",
            "--------------------------------------\n",
            "| % time spent exploring  | 2        |\n",
            "| episodes                | 2700     |\n",
            "| mean 100 episode reward | 0.2      |\n",
            "| steps                   | 51281    |\n",
            "--------------------------------------\n",
            "--------------------------------------\n",
            "| % time spent exploring  | 2        |\n",
            "| episodes                | 2800     |\n",
            "| mean 100 episode reward | 0.3      |\n",
            "| steps                   | 53181    |\n",
            "--------------------------------------\n",
            "--------------------------------------\n",
            "| % time spent exploring  | 2        |\n",
            "| episodes                | 2900     |\n",
            "| mean 100 episode reward | 0.2      |\n",
            "| steps                   | 55081    |\n",
            "--------------------------------------\n",
            "--------------------------------------\n",
            "| % time spent exploring  | 2        |\n",
            "| episodes                | 3000     |\n",
            "| mean 100 episode reward | 0.3      |\n",
            "| steps                   | 56981    |\n",
            "--------------------------------------\n",
            "--------------------------------------\n",
            "| % time spent exploring  | 2        |\n",
            "| episodes                | 3100     |\n",
            "| mean 100 episode reward | 0.4      |\n",
            "| steps                   | 58881    |\n",
            "--------------------------------------\n",
            "--------------------------------------\n",
            "| % time spent exploring  | 2        |\n",
            "| episodes                | 3200     |\n",
            "| mean 100 episode reward | 0.3      |\n",
            "| steps                   | 60781    |\n",
            "--------------------------------------\n",
            "--------------------------------------\n",
            "| % time spent exploring  | 2        |\n",
            "| episodes                | 3300     |\n",
            "| mean 100 episode reward | 0.4      |\n",
            "| steps                   | 62681    |\n",
            "--------------------------------------\n",
            "--------------------------------------\n",
            "| % time spent exploring  | 2        |\n",
            "| episodes                | 3400     |\n",
            "| mean 100 episode reward | 0.4      |\n",
            "| steps                   | 64581    |\n",
            "--------------------------------------\n",
            "--------------------------------------\n",
            "| % time spent exploring  | 2        |\n",
            "| episodes                | 3500     |\n",
            "| mean 100 episode reward | 0.3      |\n",
            "| steps                   | 66481    |\n",
            "--------------------------------------\n",
            "--------------------------------------\n",
            "| % time spent exploring  | 2        |\n",
            "| episodes                | 3600     |\n",
            "| mean 100 episode reward | 0.3      |\n",
            "| steps                   | 68381    |\n",
            "--------------------------------------\n",
            "--------------------------------------\n",
            "| % time spent exploring  | 2        |\n",
            "| episodes                | 3700     |\n",
            "| mean 100 episode reward | 0.3      |\n",
            "| steps                   | 70281    |\n",
            "--------------------------------------\n",
            "--------------------------------------\n",
            "| % time spent exploring  | 2        |\n",
            "| episodes                | 3800     |\n",
            "| mean 100 episode reward | 0.5      |\n",
            "| steps                   | 72181    |\n",
            "--------------------------------------\n",
            "--------------------------------------\n",
            "| % time spent exploring  | 2        |\n",
            "| episodes                | 3900     |\n",
            "| mean 100 episode reward | 0.2      |\n",
            "| steps                   | 74081    |\n",
            "--------------------------------------\n",
            "--------------------------------------\n",
            "| % time spent exploring  | 2        |\n",
            "| episodes                | 4000     |\n",
            "| mean 100 episode reward | 0.5      |\n",
            "| steps                   | 75981    |\n",
            "--------------------------------------\n",
            "--------------------------------------\n",
            "| % time spent exploring  | 2        |\n",
            "| episodes                | 4100     |\n",
            "| mean 100 episode reward | 0.3      |\n",
            "| steps                   | 77881    |\n",
            "--------------------------------------\n",
            "--------------------------------------\n",
            "| % time spent exploring  | 2        |\n",
            "| episodes                | 4200     |\n",
            "| mean 100 episode reward | 0.4      |\n",
            "| steps                   | 79781    |\n",
            "--------------------------------------\n",
            "--------------------------------------\n",
            "| % time spent exploring  | 2        |\n",
            "| episodes                | 4300     |\n",
            "| mean 100 episode reward | 0.3      |\n",
            "| steps                   | 81681    |\n",
            "--------------------------------------\n",
            "--------------------------------------\n",
            "| % time spent exploring  | 2        |\n",
            "| episodes                | 4400     |\n",
            "| mean 100 episode reward | 0.5      |\n",
            "| steps                   | 83581    |\n",
            "--------------------------------------\n",
            "--------------------------------------\n",
            "| % time spent exploring  | 2        |\n",
            "| episodes                | 4500     |\n",
            "| mean 100 episode reward | 0.5      |\n",
            "| steps                   | 85481    |\n",
            "--------------------------------------\n",
            "--------------------------------------\n",
            "| % time spent exploring  | 2        |\n",
            "| episodes                | 4600     |\n",
            "| mean 100 episode reward | 0.3      |\n",
            "| steps                   | 87381    |\n",
            "--------------------------------------\n",
            "--------------------------------------\n",
            "| % time spent exploring  | 2        |\n",
            "| episodes                | 4700     |\n",
            "| mean 100 episode reward | 0.3      |\n",
            "| steps                   | 89281    |\n",
            "--------------------------------------\n",
            "--------------------------------------\n",
            "| % time spent exploring  | 2        |\n",
            "| episodes                | 4800     |\n",
            "| mean 100 episode reward | 0.4      |\n",
            "| steps                   | 91181    |\n",
            "--------------------------------------\n",
            "--------------------------------------\n",
            "| % time spent exploring  | 2        |\n",
            "| episodes                | 4900     |\n",
            "| mean 100 episode reward | 0.5      |\n",
            "| steps                   | 93081    |\n",
            "--------------------------------------\n",
            "--------------------------------------\n",
            "| % time spent exploring  | 2        |\n",
            "| episodes                | 5000     |\n",
            "| mean 100 episode reward | 0.4      |\n",
            "| steps                   | 94981    |\n",
            "--------------------------------------\n",
            "--------------------------------------\n",
            "| % time spent exploring  | 2        |\n",
            "| episodes                | 5100     |\n",
            "| mean 100 episode reward | 0.2      |\n",
            "| steps                   | 96881    |\n",
            "--------------------------------------\n",
            "--------------------------------------\n",
            "| % time spent exploring  | 2        |\n",
            "| episodes                | 5200     |\n",
            "| mean 100 episode reward | 0.6      |\n",
            "| steps                   | 98781    |\n",
            "--------------------------------------\n"
          ]
        },
        {
          "output_type": "execute_result",
          "data": {
            "text/plain": [
              "<stable_baselines.deepq.dqn.DQN at 0x7ff61f3498d0>"
            ]
          },
          "metadata": {},
          "execution_count": 33
        }
      ]
    },
    {
      "cell_type": "code",
      "source": [
        "env = MyCustomEnv(df=df_msft, window_size=5, frame_bound=(90,110))\n",
        "obs = env.reset()\n",
        "while True: \n",
        "    obs = obs[np.newaxis, ...]\n",
        "    action, _states = model.predict(obs)\n",
        "    obs, rewards, done, info = env.step(action)\n",
        "    if done:\n",
        "        print(\"info\", info)\n",
        "        break"
      ],
      "metadata": {
        "colab": {
          "base_uri": "https://localhost:8080/"
        },
        "outputId": "ba35f6e9-cf36-41b6-8dc2-c57d96c7d512",
        "id": "q9RKqHtDT3Hx"
      },
      "execution_count": null,
      "outputs": [
        {
          "output_type": "stream",
          "name": "stdout",
          "text": [
            "info {'total_reward': 1.6899986267089844, 'total_profit': 0.9958664179664269, 'position': 1}\n"
          ]
        }
      ]
    },
    {
      "cell_type": "code",
      "source": [
        "plt.figure(figsize=(15,6))\n",
        "plt.cla()\n",
        "env.render_all()\n",
        "plt.show()"
      ],
      "metadata": {
        "colab": {
          "base_uri": "https://localhost:8080/",
          "height": 417
        },
        "outputId": "2b5618c5-dcd3-46e4-9f85-d01304358215",
        "id": "AnMG-7YUT3Hy"
      },
      "execution_count": null,
      "outputs": [
        {
          "output_type": "display_data",
          "data": {
            "text/plain": [
              "<Figure size 1080x432 with 1 Axes>"
            ],
            "image/png": "[encoded data removed]"
          },
          "metadata": {
            "needs_background": "light"
          }
        }
      ]
    },
    {
      "cell_type": "markdown",
      "source": [
        "# ***LEARNING RATE: 0.0005 ***\n",
        "# INDICATORS: OBV EMA RSI MOM "
      ],
      "metadata": {
        "id": "Vb-DvEDX4nvI"
      }
    },
    {
      "cell_type": "code",
      "source": [
        "def add_signals(env):\n",
        "    start = env.frame_bound[0] - env.window_size\n",
        "    end = env.frame_bound[1]\n",
        "    prices = env.df.loc[:, 'Low'].to_numpy()[start:end]\n",
        "    signal_features = env.df.loc[:, ['Low', 'Volume', 'OBV','EMA', 'RSI', 'MOM']].to_numpy()[start:end]\n",
        "    return prices, signal_features\n",
        "\n",
        "class MyCustomEnv(StocksEnv):\n",
        "    _process_data = add_signals\n",
        "    \n",
        "env2 = MyCustomEnv(df=df_msft, window_size=5, frame_bound=(90,110))"
      ],
      "metadata": {
        "id": "oBT3Vy_G5KEV"
      },
      "execution_count": 22,
      "outputs": []
    },
    {
      "cell_type": "code",
      "source": [
        "env_maker = lambda: env2\n",
        "env = DummyVecEnv([env_maker])"
      ],
      "metadata": {
        "id": "ZGDf5ID45W0f"
      },
      "execution_count": 23,
      "outputs": []
    },
    {
      "cell_type": "code",
      "source": [
        "model = DQN('MlpPolicy', env, gamma=0.99, learning_rate=0.0005, verbose=1) \n",
        "model.learn(total_timesteps= 100000)"
      ],
      "metadata": {
        "id": "DOVHnufR5Zpq",
        "colab": {
          "base_uri": "https://localhost:8080/"
        },
        "outputId": "46d14a3a-67b0-4fff-ebb4-a7227d40536f"
      },
      "execution_count": 25,
      "outputs": [
        {
          "output_type": "stream",
          "name": "stdout",
          "text": [
            "--------------------------------------\n",
            "| % time spent exploring  | 81       |\n",
            "| episodes                | 100      |\n",
            "| mean 100 episode reward | 0.3      |\n",
            "| steps                   | 1881     |\n",
            "--------------------------------------\n",
            "--------------------------------------\n",
            "| % time spent exploring  | 62       |\n",
            "| episodes                | 200      |\n",
            "| mean 100 episode reward | 0.4      |\n",
            "| steps                   | 3781     |\n",
            "--------------------------------------\n",
            "--------------------------------------\n",
            "| % time spent exploring  | 44       |\n",
            "| episodes                | 300      |\n",
            "| mean 100 episode reward | 0.2      |\n",
            "| steps                   | 5681     |\n",
            "--------------------------------------\n",
            "--------------------------------------\n",
            "| % time spent exploring  | 25       |\n",
            "| episodes                | 400      |\n",
            "| mean 100 episode reward | 0.2      |\n",
            "| steps                   | 7581     |\n",
            "--------------------------------------\n",
            "--------------------------------------\n",
            "| % time spent exploring  | 7        |\n",
            "| episodes                | 500      |\n",
            "| mean 100 episode reward | 0.2      |\n",
            "| steps                   | 9481     |\n",
            "--------------------------------------\n",
            "--------------------------------------\n",
            "| % time spent exploring  | 2        |\n",
            "| episodes                | 600      |\n",
            "| mean 100 episode reward | -0       |\n",
            "| steps                   | 11381    |\n",
            "--------------------------------------\n",
            "--------------------------------------\n",
            "| % time spent exploring  | 2        |\n",
            "| episodes                | 700      |\n",
            "| mean 100 episode reward | 0        |\n",
            "| steps                   | 13281    |\n",
            "--------------------------------------\n",
            "--------------------------------------\n",
            "| % time spent exploring  | 2        |\n",
            "| episodes                | 800      |\n",
            "| mean 100 episode reward | -0.1     |\n",
            "| steps                   | 15181    |\n",
            "--------------------------------------\n",
            "--------------------------------------\n",
            "| % time spent exploring  | 2        |\n",
            "| episodes                | 900      |\n",
            "| mean 100 episode reward | -0.2     |\n",
            "| steps                   | 17081    |\n",
            "--------------------------------------\n",
            "--------------------------------------\n",
            "| % time spent exploring  | 2        |\n",
            "| episodes                | 1000     |\n",
            "| mean 100 episode reward | 0        |\n",
            "| steps                   | 18981    |\n",
            "--------------------------------------\n",
            "--------------------------------------\n",
            "| % time spent exploring  | 2        |\n",
            "| episodes                | 1100     |\n",
            "| mean 100 episode reward | 0.5      |\n",
            "| steps                   | 20881    |\n",
            "--------------------------------------\n",
            "--------------------------------------\n",
            "| % time spent exploring  | 2        |\n",
            "| episodes                | 1200     |\n",
            "| mean 100 episode reward | 0.6      |\n",
            "| steps                   | 22781    |\n",
            "--------------------------------------\n",
            "--------------------------------------\n",
            "| % time spent exploring  | 2        |\n",
            "| episodes                | 1300     |\n",
            "| mean 100 episode reward | 0.4      |\n",
            "| steps                   | 24681    |\n",
            "--------------------------------------\n",
            "--------------------------------------\n",
            "| % time spent exploring  | 2        |\n",
            "| episodes                | 1400     |\n",
            "| mean 100 episode reward | 0        |\n",
            "| steps                   | 26581    |\n",
            "--------------------------------------\n",
            "--------------------------------------\n",
            "| % time spent exploring  | 2        |\n",
            "| episodes                | 1500     |\n",
            "| mean 100 episode reward | 0.1      |\n",
            "| steps                   | 28481    |\n",
            "--------------------------------------\n",
            "--------------------------------------\n",
            "| % time spent exploring  | 2        |\n",
            "| episodes                | 1600     |\n",
            "| mean 100 episode reward | 0        |\n",
            "| steps                   | 30381    |\n",
            "--------------------------------------\n",
            "--------------------------------------\n",
            "| % time spent exploring  | 2        |\n",
            "| episodes                | 1700     |\n",
            "| mean 100 episode reward | 0.1      |\n",
            "| steps                   | 32281    |\n",
            "--------------------------------------\n",
            "--------------------------------------\n",
            "| % time spent exploring  | 2        |\n",
            "| episodes                | 1800     |\n",
            "| mean 100 episode reward | 0        |\n",
            "| steps                   | 34181    |\n",
            "--------------------------------------\n",
            "--------------------------------------\n",
            "| % time spent exploring  | 2        |\n",
            "| episodes                | 1900     |\n",
            "| mean 100 episode reward | 0.1      |\n",
            "| steps                   | 36081    |\n",
            "--------------------------------------\n",
            "--------------------------------------\n",
            "| % time spent exploring  | 2        |\n",
            "| episodes                | 2000     |\n",
            "| mean 100 episode reward | 0        |\n",
            "| steps                   | 37981    |\n",
            "--------------------------------------\n",
            "--------------------------------------\n",
            "| % time spent exploring  | 2        |\n",
            "| episodes                | 2100     |\n",
            "| mean 100 episode reward | 0        |\n",
            "| steps                   | 39881    |\n",
            "--------------------------------------\n",
            "--------------------------------------\n",
            "| % time spent exploring  | 2        |\n",
            "| episodes                | 2200     |\n",
            "| mean 100 episode reward | 0        |\n",
            "| steps                   | 41781    |\n",
            "--------------------------------------\n",
            "--------------------------------------\n",
            "| % time spent exploring  | 2        |\n",
            "| episodes                | 2300     |\n",
            "| mean 100 episode reward | 0.1      |\n",
            "| steps                   | 43681    |\n",
            "--------------------------------------\n",
            "--------------------------------------\n",
            "| % time spent exploring  | 2        |\n",
            "| episodes                | 2400     |\n",
            "| mean 100 episode reward | 0        |\n",
            "| steps                   | 45581    |\n",
            "--------------------------------------\n",
            "--------------------------------------\n",
            "| % time spent exploring  | 2        |\n",
            "| episodes                | 2500     |\n",
            "| mean 100 episode reward | 0.1      |\n",
            "| steps                   | 47481    |\n",
            "--------------------------------------\n",
            "--------------------------------------\n",
            "| % time spent exploring  | 2        |\n",
            "| episodes                | 2600     |\n",
            "| mean 100 episode reward | -0       |\n",
            "| steps                   | 49381    |\n",
            "--------------------------------------\n",
            "--------------------------------------\n",
            "| % time spent exploring  | 2        |\n",
            "| episodes                | 2700     |\n",
            "| mean 100 episode reward | 0.1      |\n",
            "| steps                   | 51281    |\n",
            "--------------------------------------\n",
            "--------------------------------------\n",
            "| % time spent exploring  | 2        |\n",
            "| episodes                | 2800     |\n",
            "| mean 100 episode reward | 0        |\n",
            "| steps                   | 53181    |\n",
            "--------------------------------------\n",
            "--------------------------------------\n",
            "| % time spent exploring  | 2        |\n",
            "| episodes                | 2900     |\n",
            "| mean 100 episode reward | 0.1      |\n",
            "| steps                   | 55081    |\n",
            "--------------------------------------\n",
            "--------------------------------------\n",
            "| % time spent exploring  | 2        |\n",
            "| episodes                | 3000     |\n",
            "| mean 100 episode reward | 0.1      |\n",
            "| steps                   | 56981    |\n",
            "--------------------------------------\n",
            "--------------------------------------\n",
            "| % time spent exploring  | 2        |\n",
            "| episodes                | 3100     |\n",
            "| mean 100 episode reward | 0        |\n",
            "| steps                   | 58881    |\n",
            "--------------------------------------\n",
            "--------------------------------------\n",
            "| % time spent exploring  | 2        |\n",
            "| episodes                | 3200     |\n",
            "| mean 100 episode reward | 0.1      |\n",
            "| steps                   | 60781    |\n",
            "--------------------------------------\n",
            "--------------------------------------\n",
            "| % time spent exploring  | 2        |\n",
            "| episodes                | 3300     |\n",
            "| mean 100 episode reward | 0.1      |\n",
            "| steps                   | 62681    |\n",
            "--------------------------------------\n",
            "--------------------------------------\n",
            "| % time spent exploring  | 2        |\n",
            "| episodes                | 3400     |\n",
            "| mean 100 episode reward | -0       |\n",
            "| steps                   | 64581    |\n",
            "--------------------------------------\n",
            "--------------------------------------\n",
            "| % time spent exploring  | 2        |\n",
            "| episodes                | 3500     |\n",
            "| mean 100 episode reward | -0       |\n",
            "| steps                   | 66481    |\n",
            "--------------------------------------\n",
            "--------------------------------------\n",
            "| % time spent exploring  | 2        |\n",
            "| episodes                | 3600     |\n",
            "| mean 100 episode reward | 0        |\n",
            "| steps                   | 68381    |\n",
            "--------------------------------------\n",
            "--------------------------------------\n",
            "| % time spent exploring  | 2        |\n",
            "| episodes                | 3700     |\n",
            "| mean 100 episode reward | 0        |\n",
            "| steps                   | 70281    |\n",
            "--------------------------------------\n",
            "--------------------------------------\n",
            "| % time spent exploring  | 2        |\n",
            "| episodes                | 3800     |\n",
            "| mean 100 episode reward | 0.1      |\n",
            "| steps                   | 72181    |\n",
            "--------------------------------------\n",
            "--------------------------------------\n",
            "| % time spent exploring  | 2        |\n",
            "| episodes                | 3900     |\n",
            "| mean 100 episode reward | 0        |\n",
            "| steps                   | 74081    |\n",
            "--------------------------------------\n",
            "--------------------------------------\n",
            "| % time spent exploring  | 2        |\n",
            "| episodes                | 4000     |\n",
            "| mean 100 episode reward | 0.1      |\n",
            "| steps                   | 75981    |\n",
            "--------------------------------------\n",
            "--------------------------------------\n",
            "| % time spent exploring  | 2        |\n",
            "| episodes                | 4100     |\n",
            "| mean 100 episode reward | 0        |\n",
            "| steps                   | 77881    |\n",
            "--------------------------------------\n",
            "--------------------------------------\n",
            "| % time spent exploring  | 2        |\n",
            "| episodes                | 4200     |\n",
            "| mean 100 episode reward | 0.1      |\n",
            "| steps                   | 79781    |\n",
            "--------------------------------------\n",
            "--------------------------------------\n",
            "| % time spent exploring  | 2        |\n",
            "| episodes                | 4300     |\n",
            "| mean 100 episode reward | 0.1      |\n",
            "| steps                   | 81681    |\n",
            "--------------------------------------\n",
            "--------------------------------------\n",
            "| % time spent exploring  | 2        |\n",
            "| episodes                | 4400     |\n",
            "| mean 100 episode reward | 0        |\n",
            "| steps                   | 83581    |\n",
            "--------------------------------------\n",
            "--------------------------------------\n",
            "| % time spent exploring  | 2        |\n",
            "| episodes                | 4500     |\n",
            "| mean 100 episode reward | 0.1      |\n",
            "| steps                   | 85481    |\n",
            "--------------------------------------\n",
            "--------------------------------------\n",
            "| % time spent exploring  | 2        |\n",
            "| episodes                | 4600     |\n",
            "| mean 100 episode reward | 0        |\n",
            "| steps                   | 87381    |\n",
            "--------------------------------------\n",
            "--------------------------------------\n",
            "| % time spent exploring  | 2        |\n",
            "| episodes                | 4700     |\n",
            "| mean 100 episode reward | 0.1      |\n",
            "| steps                   | 89281    |\n",
            "--------------------------------------\n",
            "--------------------------------------\n",
            "| % time spent exploring  | 2        |\n",
            "| episodes                | 4800     |\n",
            "| mean 100 episode reward | -0       |\n",
            "| steps                   | 91181    |\n",
            "--------------------------------------\n",
            "--------------------------------------\n",
            "| % time spent exploring  | 2        |\n",
            "| episodes                | 4900     |\n",
            "| mean 100 episode reward | -0       |\n",
            "| steps                   | 93081    |\n",
            "--------------------------------------\n",
            "--------------------------------------\n",
            "| % time spent exploring  | 2        |\n",
            "| episodes                | 5000     |\n",
            "| mean 100 episode reward | 0        |\n",
            "| steps                   | 94981    |\n",
            "--------------------------------------\n",
            "--------------------------------------\n",
            "| % time spent exploring  | 2        |\n",
            "| episodes                | 5100     |\n",
            "| mean 100 episode reward | 0        |\n",
            "| steps                   | 96881    |\n",
            "--------------------------------------\n",
            "--------------------------------------\n",
            "| % time spent exploring  | 2        |\n",
            "| episodes                | 5200     |\n",
            "| mean 100 episode reward | -0       |\n",
            "| steps                   | 98781    |\n",
            "--------------------------------------\n"
          ]
        },
        {
          "output_type": "execute_result",
          "data": {
            "text/plain": [
              "<stable_baselines.deepq.dqn.DQN at 0x7f020c1ac7d0>"
            ]
          },
          "metadata": {},
          "execution_count": 25
        }
      ]
    },
    {
      "cell_type": "code",
      "source": [
        "env = MyCustomEnv(df=df_msft, window_size=5, frame_bound=(90,110))\n",
        "obs = env.reset()\n",
        "while True: \n",
        "    obs = obs[np.newaxis, ...]\n",
        "    action, _states = model.predict(obs)\n",
        "    obs, rewards, done, info = env.step(action)\n",
        "    if done:\n",
        "        print(\"info\", info)\n",
        "        break"
      ],
      "metadata": {
        "id": "ibPBc-Cr6ssR",
        "colab": {
          "base_uri": "https://localhost:8080/"
        },
        "outputId": "d541a16f-bf70-447b-96ea-3111fceae450"
      },
      "execution_count": 26,
      "outputs": [
        {
          "output_type": "stream",
          "name": "stdout",
          "text": [
            "info {'total_reward': 0.0, 'total_profit': 0.9937348206031017, 'position': 1}\n"
          ]
        }
      ]
    },
    {
      "cell_type": "code",
      "source": [
        "plt.figure(figsize=(15,6))\n",
        "plt.cla()\n",
        "env.render_all()\n",
        "plt.show()"
      ],
      "metadata": {
        "id": "t2SUl8Pl6ssS",
        "colab": {
          "base_uri": "https://localhost:8080/",
          "height": 417
        },
        "outputId": "61939a3b-da42-4fe1-fd22-365e80613bc3"
      },
      "execution_count": 27,
      "outputs": [
        {
          "output_type": "display_data",
          "data": {
            "text/plain": [
              "<Figure size 1080x432 with 1 Axes>"
            ],
            "image/png": "[encoded data removed]"
          },
          "metadata": {
            "needs_background": "light"
          }
        }
      ]
    },
    {
      "cell_type": "markdown",
      "source": [
        "# ***LEARNING RATE: 0.0009 ***\n",
        "# INDICATORS: OBV EMA RSI MOM "
      ],
      "metadata": {
        "id": "cBksBJ4i87ri"
      }
    },
    {
      "cell_type": "code",
      "source": [
        "def add_signals(env):\n",
        "    start = env.frame_bound[0] - env.window_size\n",
        "    end = env.frame_bound[1]\n",
        "    prices = env.df.loc[:, 'Low'].to_numpy()[start:end]\n",
        "    signal_features = env.df.loc[:, ['Low', 'Volume', 'OBV','EMA', 'RSI', 'MOM']].to_numpy()[start:end]\n",
        "    return prices, signal_features\n",
        "\n",
        "class MyCustomEnv(StocksEnv):\n",
        "    _process_data = add_signals\n",
        "    \n",
        "env2 = MyCustomEnv(df=df_msft, window_size=5, frame_bound=(90,110))"
      ],
      "metadata": {
        "id": "OuyysPVQ87rn"
      },
      "execution_count": null,
      "outputs": []
    },
    {
      "cell_type": "code",
      "source": [
        "env_maker = lambda: env2\n",
        "env = DummyVecEnv([env_maker])"
      ],
      "metadata": {
        "id": "SHJfkQEs87rn"
      },
      "execution_count": null,
      "outputs": []
    },
    {
      "cell_type": "code",
      "source": [
        "model = DQN('MlpPolicy', env, gamma=0.99, learning_rate=0.0009, verbose=1) \n",
        "model.learn(total_timesteps= 100000)"
      ],
      "metadata": {
        "id": "z7cmSUpD87rn"
      },
      "execution_count": null,
      "outputs": []
    },
    {
      "cell_type": "code",
      "source": [
        "env = MyCustomEnv(df=df_msft, window_size=5, frame_bound=(90,110))\n",
        "obs = env.reset()\n",
        "while True: \n",
        "    obs = obs[np.newaxis, ...]\n",
        "    action, _states = model.predict(obs)\n",
        "    obs, rewards, done, info = env.step(action)\n",
        "    if done:\n",
        "        print(\"info\", info)\n",
        "        break"
      ],
      "metadata": {
        "id": "JYnZ_aqB87rn"
      },
      "execution_count": null,
      "outputs": []
    },
    {
      "cell_type": "code",
      "source": [
        "plt.figure(figsize=(15,6))\n",
        "plt.cla()\n",
        "env.render_all()\n",
        "plt.show()"
      ],
      "metadata": {
        "id": "NRoF5-kW87rn"
      },
      "execution_count": null,
      "outputs": []
    },
    {
      "cell_type": "markdown",
      "source": [
        "# ***LEARNING RATE: 0.00025 ***\n",
        "# INDICATORS: OBV EMA RSI MOM "
      ],
      "metadata": {
        "id": "afUvPNPf-b-h"
      }
    },
    {
      "cell_type": "code",
      "source": [
        "def add_signals(env):\n",
        "    start = env.frame_bound[0] - env.window_size\n",
        "    end = env.frame_bound[1]\n",
        "    prices = env.df.loc[:, 'Low'].to_numpy()[start:end]\n",
        "    signal_features = env.df.loc[:, ['Low', 'Volume', 'OBV','EMA', 'RSI', 'MOM']].to_numpy()[start:end]\n",
        "    return prices, signal_features\n",
        "\n",
        "class MyCustomEnv(StocksEnv):\n",
        "    _process_data = add_signals\n",
        "    \n",
        "env2 = MyCustomEnv(df=df_msft, window_size=5, frame_bound=(90,110))"
      ],
      "metadata": {
        "id": "4abJzrLV-b-h"
      },
      "execution_count": null,
      "outputs": []
    },
    {
      "cell_type": "code",
      "source": [
        "env_maker = lambda: env2\n",
        "env = DummyVecEnv([env_maker])"
      ],
      "metadata": {
        "id": "OkqTt6LX-b-h"
      },
      "execution_count": null,
      "outputs": []
    },
    {
      "cell_type": "code",
      "source": [
        "model = DQN('MlpPolicy', env, gamma=0.99, learning_rate=0.00025, verbose=1) \n",
        "model.learn(total_timesteps= 100000)"
      ],
      "metadata": {
        "id": "-xpHEX0t-b-i"
      },
      "execution_count": null,
      "outputs": []
    },
    {
      "cell_type": "code",
      "source": [
        "env = MyCustomEnv(df=df_msft, window_size=5, frame_bound=(90,110))\n",
        "obs = env.reset()\n",
        "while True: \n",
        "    obs = obs[np.newaxis, ...]\n",
        "    action, _states = model.predict(obs)\n",
        "    obs, rewards, done, info = env.step(action)\n",
        "    if done:\n",
        "        print(\"info\", info)\n",
        "        break"
      ],
      "metadata": {
        "id": "QNS0eHzl-b-i"
      },
      "execution_count": null,
      "outputs": []
    },
    {
      "cell_type": "code",
      "source": [
        "plt.figure(figsize=(15,6))\n",
        "plt.cla()\n",
        "env.render_all()\n",
        "plt.show()"
      ],
      "metadata": {
        "id": "M32Sg7Uf-b-i"
      },
      "execution_count": null,
      "outputs": []
    },
    {
      "cell_type": "markdown",
      "source": [
        "# ***LEARNING RATE: 0.00011 ***\n",
        "# INDICATORS: OBV EMA RSI MOM "
      ],
      "metadata": {
        "id": "N2v5CcQ__Oz0"
      }
    },
    {
      "cell_type": "code",
      "source": [
        "def add_signals(env):\n",
        "    start = env.frame_bound[0] - env.window_size\n",
        "    end = env.frame_bound[1]\n",
        "    prices = env.df.loc[:, 'Low'].to_numpy()[start:end]\n",
        "    signal_features = env.df.loc[:, ['Low', 'Volume', 'OBV','EMA', 'RSI', 'MOM']].to_numpy()[start:end]\n",
        "    return prices, signal_features\n",
        "\n",
        "class MyCustomEnv(StocksEnv):\n",
        "    _process_data = add_signals\n",
        "    \n",
        "env2 = MyCustomEnv(df=df_msft, window_size=5, frame_bound=(90,110))"
      ],
      "metadata": {
        "id": "HTcLM_a6_Oz0"
      },
      "execution_count": null,
      "outputs": []
    },
    {
      "cell_type": "code",
      "source": [
        "env_maker = lambda: env2\n",
        "env = DummyVecEnv([env_maker])"
      ],
      "metadata": {
        "id": "dYWz6CWG_Oz1"
      },
      "execution_count": null,
      "outputs": []
    },
    {
      "cell_type": "code",
      "source": [
        "model = DQN('MlpPolicy', env, gamma=0.99, learning_rate=0.00011, verbose=1) \n",
        "model.learn(total_timesteps= 100000)"
      ],
      "metadata": {
        "id": "arAwmJt0_Oz1"
      },
      "execution_count": null,
      "outputs": []
    },
    {
      "cell_type": "code",
      "source": [
        "env = MyCustomEnv(df=df_msft, window_size=5, frame_bound=(90,110))\n",
        "obs = env.reset()\n",
        "while True: \n",
        "    obs = obs[np.newaxis, ...]\n",
        "    action, _states = model.predict(obs)\n",
        "    obs, rewards, done, info = env.step(action)\n",
        "    if done:\n",
        "        print(\"info\", info)\n",
        "        break"
      ],
      "metadata": {
        "id": "D_TkxCZ3_Oz1"
      },
      "execution_count": null,
      "outputs": []
    },
    {
      "cell_type": "code",
      "source": [
        "plt.figure(figsize=(15,6))\n",
        "plt.cla()\n",
        "env.render_all()\n",
        "plt.show()"
      ],
      "metadata": {
        "id": "lMtw2mOp_Oz1"
      },
      "execution_count": null,
      "outputs": []
    },
    {
      "cell_type": "markdown",
      "source": [
        "# ***LEARNING RATE: 0.00009 ***\n",
        "# INDICATORS: OBV EMA RSI MOM "
      ],
      "metadata": {
        "id": "pK0XkVQN_i1c"
      }
    },
    {
      "cell_type": "code",
      "source": [
        "def add_signals(env):\n",
        "    start = env.frame_bound[0] - env.window_size\n",
        "    end = env.frame_bound[1]\n",
        "    prices = env.df.loc[:, 'Low'].to_numpy()[start:end]\n",
        "    signal_features = env.df.loc[:, ['Low', 'Volume', 'OBV','EMA', 'RSI', 'MOM']].to_numpy()[start:end]\n",
        "    return prices, signal_features\n",
        "\n",
        "class MyCustomEnv(StocksEnv):\n",
        "    _process_data = add_signals\n",
        "    \n",
        "env2 = MyCustomEnv(df=df_msft, window_size=5, frame_bound=(90,110))"
      ],
      "metadata": {
        "id": "s9cQ13rn_i1c"
      },
      "execution_count": null,
      "outputs": []
    },
    {
      "cell_type": "code",
      "source": [
        "env_maker = lambda: env2\n",
        "env = DummyVecEnv([env_maker])"
      ],
      "metadata": {
        "id": "PfH53UEj_i1c"
      },
      "execution_count": null,
      "outputs": []
    },
    {
      "cell_type": "code",
      "source": [
        "model = DQN('MlpPolicy', env, gamma=0.99, learning_rate=0.00009, verbose=1) \n",
        "model.learn(total_timesteps= 100000)"
      ],
      "metadata": {
        "id": "6zke1ciI_i1c"
      },
      "execution_count": null,
      "outputs": []
    },
    {
      "cell_type": "code",
      "source": [
        "env = MyCustomEnv(df=df_msft, window_size=5, frame_bound=(90,110))\n",
        "obs = env.reset()\n",
        "while True: \n",
        "    obs = obs[np.newaxis, ...]\n",
        "    action, _states = model.predict(obs)\n",
        "    obs, rewards, done, info = env.step(action)\n",
        "    if done:\n",
        "        print(\"info\", info)\n",
        "        break"
      ],
      "metadata": {
        "id": "YEEB-CGg_i1d"
      },
      "execution_count": null,
      "outputs": []
    },
    {
      "cell_type": "code",
      "source": [
        "plt.figure(figsize=(15,6))\n",
        "plt.cla()\n",
        "env.render_all()\n",
        "plt.show()"
      ],
      "metadata": {
        "id": "9dJZgGvK_i1d"
      },
      "execution_count": null,
      "outputs": []
    },
    {
      "cell_type": "markdown",
      "source": [
        "# ***LEARNING RATE: 0.00001 ***\n",
        "# INDICATORS: OBV EMA RSI MOM "
      ],
      "metadata": {
        "id": "hx_30fOX_mvt"
      }
    },
    {
      "cell_type": "code",
      "source": [
        "def add_signals(env):\n",
        "    start = env.frame_bound[0] - env.window_size\n",
        "    end = env.frame_bound[1]\n",
        "    prices = env.df.loc[:, 'Low'].to_numpy()[start:end]\n",
        "    signal_features = env.df.loc[:, ['Low', 'Volume', 'OBV','EMA', 'RSI', 'MOM']].to_numpy()[start:end]\n",
        "    return prices, signal_features\n",
        "\n",
        "class MyCustomEnv(StocksEnv):\n",
        "    _process_data = add_signals\n",
        "    \n",
        "env2 = MyCustomEnv(df=df_msft, window_size=5, frame_bound=(90,110))"
      ],
      "metadata": {
        "id": "1bkFL9vB_mvt"
      },
      "execution_count": 28,
      "outputs": []
    },
    {
      "cell_type": "code",
      "source": [
        "env_maker = lambda: env2\n",
        "env = DummyVecEnv([env_maker])"
      ],
      "metadata": {
        "id": "rySR4MgP_mvt"
      },
      "execution_count": 29,
      "outputs": []
    },
    {
      "cell_type": "code",
      "source": [
        "model = DQN('MlpPolicy', env, gamma=0.99, learning_rate=0.000001, verbose=1) \n",
        "model.learn(total_timesteps= 100000)"
      ],
      "metadata": {
        "id": "O73SVK-p_mvt",
        "colab": {
          "base_uri": "https://localhost:8080/"
        },
        "outputId": "31661417-bb50-4071-cd5f-d9204697b2b1"
      },
      "execution_count": 30,
      "outputs": [
        {
          "output_type": "stream",
          "name": "stdout",
          "text": [
            "--------------------------------------\n",
            "| % time spent exploring  | 81       |\n",
            "| episodes                | 100      |\n",
            "| mean 100 episode reward | 0.3      |\n",
            "| steps                   | 1881     |\n",
            "--------------------------------------\n",
            "--------------------------------------\n",
            "| % time spent exploring  | 62       |\n",
            "| episodes                | 200      |\n",
            "| mean 100 episode reward | 0.3      |\n",
            "| steps                   | 3781     |\n",
            "--------------------------------------\n",
            "--------------------------------------\n",
            "| % time spent exploring  | 44       |\n",
            "| episodes                | 300      |\n",
            "| mean 100 episode reward | 0.2      |\n",
            "| steps                   | 5681     |\n",
            "--------------------------------------\n",
            "--------------------------------------\n",
            "| % time spent exploring  | 25       |\n",
            "| episodes                | 400      |\n",
            "| mean 100 episode reward | 0.1      |\n",
            "| steps                   | 7581     |\n",
            "--------------------------------------\n",
            "--------------------------------------\n",
            "| % time spent exploring  | 7        |\n",
            "| episodes                | 500      |\n",
            "| mean 100 episode reward | 0.3      |\n",
            "| steps                   | 9481     |\n",
            "--------------------------------------\n",
            "--------------------------------------\n",
            "| % time spent exploring  | 2        |\n",
            "| episodes                | 600      |\n",
            "| mean 100 episode reward | 0.7      |\n",
            "| steps                   | 11381    |\n",
            "--------------------------------------\n",
            "--------------------------------------\n",
            "| % time spent exploring  | 2        |\n",
            "| episodes                | 700      |\n",
            "| mean 100 episode reward | 0.5      |\n",
            "| steps                   | 13281    |\n",
            "--------------------------------------\n",
            "--------------------------------------\n",
            "| % time spent exploring  | 2        |\n",
            "| episodes                | 800      |\n",
            "| mean 100 episode reward | 0.4      |\n",
            "| steps                   | 15181    |\n",
            "--------------------------------------\n",
            "--------------------------------------\n",
            "| % time spent exploring  | 2        |\n",
            "| episodes                | 900      |\n",
            "| mean 100 episode reward | 0.8      |\n",
            "| steps                   | 17081    |\n",
            "--------------------------------------\n",
            "--------------------------------------\n",
            "| % time spent exploring  | 2        |\n",
            "| episodes                | 1000     |\n",
            "| mean 100 episode reward | 1.1      |\n",
            "| steps                   | 18981    |\n",
            "--------------------------------------\n",
            "--------------------------------------\n",
            "| % time spent exploring  | 2        |\n",
            "| episodes                | 1100     |\n",
            "| mean 100 episode reward | 0.9      |\n",
            "| steps                   | 20881    |\n",
            "--------------------------------------\n",
            "--------------------------------------\n",
            "| % time spent exploring  | 2        |\n",
            "| episodes                | 1200     |\n",
            "| mean 100 episode reward | 1        |\n",
            "| steps                   | 22781    |\n",
            "--------------------------------------\n",
            "--------------------------------------\n",
            "| % time spent exploring  | 2        |\n",
            "| episodes                | 1300     |\n",
            "| mean 100 episode reward | 0.6      |\n",
            "| steps                   | 24681    |\n",
            "--------------------------------------\n",
            "--------------------------------------\n",
            "| % time spent exploring  | 2        |\n",
            "| episodes                | 1400     |\n",
            "| mean 100 episode reward | 0.7      |\n",
            "| steps                   | 26581    |\n",
            "--------------------------------------\n",
            "--------------------------------------\n",
            "| % time spent exploring  | 2        |\n",
            "| episodes                | 1500     |\n",
            "| mean 100 episode reward | 0.8      |\n",
            "| steps                   | 28481    |\n",
            "--------------------------------------\n",
            "--------------------------------------\n",
            "| % time spent exploring  | 2        |\n",
            "| episodes                | 1600     |\n",
            "| mean 100 episode reward | 0.7      |\n",
            "| steps                   | 30381    |\n",
            "--------------------------------------\n",
            "--------------------------------------\n",
            "| % time spent exploring  | 2        |\n",
            "| episodes                | 1700     |\n",
            "| mean 100 episode reward | 0.3      |\n",
            "| steps                   | 32281    |\n",
            "--------------------------------------\n",
            "--------------------------------------\n",
            "| % time spent exploring  | 2        |\n",
            "| episodes                | 1800     |\n",
            "| mean 100 episode reward | 0.2      |\n",
            "| steps                   | 34181    |\n",
            "--------------------------------------\n",
            "--------------------------------------\n",
            "| % time spent exploring  | 2        |\n",
            "| episodes                | 1900     |\n",
            "| mean 100 episode reward | 0.3      |\n",
            "| steps                   | 36081    |\n",
            "--------------------------------------\n",
            "--------------------------------------\n",
            "| % time spent exploring  | 2        |\n",
            "| episodes                | 2000     |\n",
            "| mean 100 episode reward | 0.6      |\n",
            "| steps                   | 37981    |\n",
            "--------------------------------------\n",
            "--------------------------------------\n",
            "| % time spent exploring  | 2        |\n",
            "| episodes                | 2100     |\n",
            "| mean 100 episode reward | 0.6      |\n",
            "| steps                   | 39881    |\n",
            "--------------------------------------\n",
            "--------------------------------------\n",
            "| % time spent exploring  | 2        |\n",
            "| episodes                | 2200     |\n",
            "| mean 100 episode reward | 0.7      |\n",
            "| steps                   | 41781    |\n",
            "--------------------------------------\n",
            "--------------------------------------\n",
            "| % time spent exploring  | 2        |\n",
            "| episodes                | 2300     |\n",
            "| mean 100 episode reward | 0.7      |\n",
            "| steps                   | 43681    |\n",
            "--------------------------------------\n",
            "--------------------------------------\n",
            "| % time spent exploring  | 2        |\n",
            "| episodes                | 2400     |\n",
            "| mean 100 episode reward | 0.7      |\n",
            "| steps                   | 45581    |\n",
            "--------------------------------------\n",
            "--------------------------------------\n",
            "| % time spent exploring  | 2        |\n",
            "| episodes                | 2500     |\n",
            "| mean 100 episode reward | 0.8      |\n",
            "| steps                   | 47481    |\n",
            "--------------------------------------\n",
            "--------------------------------------\n",
            "| % time spent exploring  | 2        |\n",
            "| episodes                | 2600     |\n",
            "| mean 100 episode reward | 0.8      |\n",
            "| steps                   | 49381    |\n",
            "--------------------------------------\n",
            "--------------------------------------\n",
            "| % time spent exploring  | 2        |\n",
            "| episodes                | 2700     |\n",
            "| mean 100 episode reward | 0.7      |\n",
            "| steps                   | 51281    |\n",
            "--------------------------------------\n",
            "--------------------------------------\n",
            "| % time spent exploring  | 2        |\n",
            "| episodes                | 2800     |\n",
            "| mean 100 episode reward | 1.1      |\n",
            "| steps                   | 53181    |\n",
            "--------------------------------------\n",
            "--------------------------------------\n",
            "| % time spent exploring  | 2        |\n",
            "| episodes                | 2900     |\n",
            "| mean 100 episode reward | 0.9      |\n",
            "| steps                   | 55081    |\n",
            "--------------------------------------\n",
            "--------------------------------------\n",
            "| % time spent exploring  | 2        |\n",
            "| episodes                | 3000     |\n",
            "| mean 100 episode reward | 0.7      |\n",
            "| steps                   | 56981    |\n",
            "--------------------------------------\n",
            "--------------------------------------\n",
            "| % time spent exploring  | 2        |\n",
            "| episodes                | 3100     |\n",
            "| mean 100 episode reward | 0.8      |\n",
            "| steps                   | 58881    |\n",
            "--------------------------------------\n",
            "--------------------------------------\n",
            "| % time spent exploring  | 2        |\n",
            "| episodes                | 3200     |\n",
            "| mean 100 episode reward | 0.9      |\n",
            "| steps                   | 60781    |\n",
            "--------------------------------------\n",
            "--------------------------------------\n",
            "| % time spent exploring  | 2        |\n",
            "| episodes                | 3300     |\n",
            "| mean 100 episode reward | 0.9      |\n",
            "| steps                   | 62681    |\n",
            "--------------------------------------\n",
            "--------------------------------------\n",
            "| % time spent exploring  | 2        |\n",
            "| episodes                | 3400     |\n",
            "| mean 100 episode reward | 0.8      |\n",
            "| steps                   | 64581    |\n",
            "--------------------------------------\n",
            "--------------------------------------\n",
            "| % time spent exploring  | 2        |\n",
            "| episodes                | 3500     |\n",
            "| mean 100 episode reward | 0.8      |\n",
            "| steps                   | 66481    |\n",
            "--------------------------------------\n",
            "--------------------------------------\n",
            "| % time spent exploring  | 2        |\n",
            "| episodes                | 3600     |\n",
            "| mean 100 episode reward | 0.8      |\n",
            "| steps                   | 68381    |\n",
            "--------------------------------------\n",
            "--------------------------------------\n",
            "| % time spent exploring  | 2        |\n",
            "| episodes                | 3700     |\n",
            "| mean 100 episode reward | 0.9      |\n",
            "| steps                   | 70281    |\n",
            "--------------------------------------\n",
            "--------------------------------------\n",
            "| % time spent exploring  | 2        |\n",
            "| episodes                | 3800     |\n",
            "| mean 100 episode reward | 0.9      |\n",
            "| steps                   | 72181    |\n",
            "--------------------------------------\n",
            "--------------------------------------\n",
            "| % time spent exploring  | 2        |\n",
            "| episodes                | 3900     |\n",
            "| mean 100 episode reward | 1.1      |\n",
            "| steps                   | 74081    |\n",
            "--------------------------------------\n",
            "--------------------------------------\n",
            "| % time spent exploring  | 2        |\n",
            "| episodes                | 4000     |\n",
            "| mean 100 episode reward | 1.2      |\n",
            "| steps                   | 75981    |\n",
            "--------------------------------------\n",
            "--------------------------------------\n",
            "| % time spent exploring  | 2        |\n",
            "| episodes                | 4100     |\n",
            "| mean 100 episode reward | 1.3      |\n",
            "| steps                   | 77881    |\n",
            "--------------------------------------\n",
            "--------------------------------------\n",
            "| % time spent exploring  | 2        |\n",
            "| episodes                | 4200     |\n",
            "| mean 100 episode reward | 1.4      |\n",
            "| steps                   | 79781    |\n",
            "--------------------------------------\n",
            "--------------------------------------\n",
            "| % time spent exploring  | 2        |\n",
            "| episodes                | 4300     |\n",
            "| mean 100 episode reward | 1.4      |\n",
            "| steps                   | 81681    |\n",
            "--------------------------------------\n",
            "--------------------------------------\n",
            "| % time spent exploring  | 2        |\n",
            "| episodes                | 4400     |\n",
            "| mean 100 episode reward | 1.4      |\n",
            "| steps                   | 83581    |\n",
            "--------------------------------------\n",
            "--------------------------------------\n",
            "| % time spent exploring  | 2        |\n",
            "| episodes                | 4500     |\n",
            "| mean 100 episode reward | 1.3      |\n",
            "| steps                   | 85481    |\n",
            "--------------------------------------\n",
            "--------------------------------------\n",
            "| % time spent exploring  | 2        |\n",
            "| episodes                | 4600     |\n",
            "| mean 100 episode reward | 1.3      |\n",
            "| steps                   | 87381    |\n",
            "--------------------------------------\n",
            "--------------------------------------\n",
            "| % time spent exploring  | 2        |\n",
            "| episodes                | 4700     |\n",
            "| mean 100 episode reward | 1.3      |\n",
            "| steps                   | 89281    |\n",
            "--------------------------------------\n",
            "--------------------------------------\n",
            "| % time spent exploring  | 2        |\n",
            "| episodes                | 4800     |\n",
            "| mean 100 episode reward | 1.3      |\n",
            "| steps                   | 91181    |\n",
            "--------------------------------------\n",
            "--------------------------------------\n",
            "| % time spent exploring  | 2        |\n",
            "| episodes                | 4900     |\n",
            "| mean 100 episode reward | 1.3      |\n",
            "| steps                   | 93081    |\n",
            "--------------------------------------\n",
            "--------------------------------------\n",
            "| % time spent exploring  | 2        |\n",
            "| episodes                | 5000     |\n",
            "| mean 100 episode reward | 1.3      |\n",
            "| steps                   | 94981    |\n",
            "--------------------------------------\n",
            "--------------------------------------\n",
            "| % time spent exploring  | 2        |\n",
            "| episodes                | 5100     |\n",
            "| mean 100 episode reward | 1.1      |\n",
            "| steps                   | 96881    |\n",
            "--------------------------------------\n",
            "--------------------------------------\n",
            "| % time spent exploring  | 2        |\n",
            "| episodes                | 5200     |\n",
            "| mean 100 episode reward | 0.9      |\n",
            "| steps                   | 98781    |\n",
            "--------------------------------------\n"
          ]
        },
        {
          "output_type": "execute_result",
          "data": {
            "text/plain": [
              "<stable_baselines.deepq.dqn.DQN at 0x7f0200e77b50>"
            ]
          },
          "metadata": {},
          "execution_count": 30
        }
      ]
    },
    {
      "cell_type": "code",
      "source": [
        "env = MyCustomEnv(df=df_msft, window_size=5, frame_bound=(90,110))\n",
        "obs = env.reset()\n",
        "while True: \n",
        "    obs = obs[np.newaxis, ...]\n",
        "    action, _states = model.predict(obs)\n",
        "    obs, rewards, done, info = env.step(action)\n",
        "    if done:\n",
        "        print(\"info\", info)\n",
        "        break"
      ],
      "metadata": {
        "id": "19gQosLs_mvt",
        "colab": {
          "base_uri": "https://localhost:8080/"
        },
        "outputId": "9ad2c2a0-0379-4e57-c0ab-a59514f78db2"
      },
      "execution_count": 31,
      "outputs": [
        {
          "output_type": "stream",
          "name": "stdout",
          "text": [
            "info {'total_reward': 0.9599990844726562, 'total_profit': 0.9716687372706987, 'position': 1}\n"
          ]
        }
      ]
    },
    {
      "cell_type": "code",
      "source": [
        "plt.figure(figsize=(15,6))\n",
        "plt.cla()\n",
        "env.render_all()\n",
        "plt.show()"
      ],
      "metadata": {
        "id": "Owxz_Xkg_mvt",
        "colab": {
          "base_uri": "https://localhost:8080/",
          "height": 417
        },
        "outputId": "bec354b7-03a1-4029-f4cc-0c421061d655"
      },
      "execution_count": 32,
      "outputs": [
        {
          "output_type": "display_data",
          "data": {
            "text/plain": [
              "<Figure size 1080x432 with 1 Axes>"
            ],
            "image/png": "[encoded data removed]"
          },
          "metadata": {
            "needs_background": "light"
          }
        }
      ]
    }
  ]
}